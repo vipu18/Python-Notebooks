{
 "cells": [
  {
   "cell_type": "markdown",
   "id": "52b229b4",
   "metadata": {},
   "source": [
    "## If Else Elif"
   ]
  },
  {
   "cell_type": "code",
   "execution_count": null,
   "id": "b751fa90",
   "metadata": {},
   "outputs": [],
   "source": [
    "hungry = True\n",
    "if hungry:\n",
    "    print(\"feed\")\n",
    "else:\n",
    "    print(\"Hello\")"
   ]
  },
  {
   "cell_type": "code",
   "execution_count": null,
   "id": "153bf82b",
   "metadata": {},
   "outputs": [],
   "source": [
    "loc = 'Factory'\n",
    "if loc == 'Auto':\n",
    "    print('false')\n",
    "elif loc == 'Bank':\n",
    "    print('Money! Money')\n",
    "else:\n",
    "    print('true')"
   ]
  },
  {
   "cell_type": "markdown",
   "id": "571134ca",
   "metadata": {},
   "source": [
    "## For"
   ]
  },
  {
   "cell_type": "code",
   "execution_count": null,
   "id": "fc6eaba8",
   "metadata": {},
   "outputs": [],
   "source": [
    "mylist = [1, 2, 3, 4, 5, 6, 7, 8, 9, 10]"
   ]
  },
  {
   "cell_type": "code",
   "execution_count": null,
   "id": "8b4100c2",
   "metadata": {},
   "outputs": [],
   "source": [
    "for num in mylist:\n",
    "    print(num)"
   ]
  },
  {
   "cell_type": "code",
   "execution_count": null,
   "id": "f27d93cd",
   "metadata": {},
   "outputs": [],
   "source": [
    "for num in mylist:\n",
    "    if num % 2 == 0:\n",
    "        print(num)\n",
    "    else:\n",
    "        print(f'oddnum: {num}')"
   ]
  },
  {
   "cell_type": "code",
   "execution_count": null,
   "id": "9941814e",
   "metadata": {},
   "outputs": [],
   "source": [
    "list_sum = 0\n",
    "for num in mylist:\n",
    "    list_sum= list_sum + num\n",
    "print(list_sum)"
   ]
  },
  {
   "cell_type": "code",
   "execution_count": null,
   "id": "7deeaef5",
   "metadata": {
    "scrolled": true
   },
   "outputs": [],
   "source": [
    "string = 'hello world'\n",
    "for letter in string:\n",
    "    print(letter)"
   ]
  },
  {
   "cell_type": "code",
   "execution_count": null,
   "id": "0abd3309",
   "metadata": {},
   "outputs": [],
   "source": [
    "tup = (1,2,3)\n",
    "for tupe in tup:\n",
    "    print(tupe)"
   ]
  },
  {
   "cell_type": "code",
   "execution_count": null,
   "id": "bc22791a",
   "metadata": {},
   "outputs": [],
   "source": [
    "mylist = [(1,2),(2,3),(3,4),(4,5)]"
   ]
  },
  {
   "cell_type": "code",
   "execution_count": null,
   "id": "da5ca157",
   "metadata": {},
   "outputs": [],
   "source": [
    "for (a,b) in mylist:\n",
    "    print(b)"
   ]
  },
  {
   "cell_type": "code",
   "execution_count": null,
   "id": "c733a254",
   "metadata": {},
   "outputs": [],
   "source": [
    "mylist = [(1,2,3), (4,5,6), (6,7,8)]"
   ]
  },
  {
   "cell_type": "code",
   "execution_count": null,
   "id": "596457cf",
   "metadata": {},
   "outputs": [],
   "source": [
    "for item in mylist:\n",
    "    print(item)"
   ]
  },
  {
   "cell_type": "code",
   "execution_count": null,
   "id": "aea51abf",
   "metadata": {},
   "outputs": [],
   "source": [
    "d = {'k1':1, 'k2':2, 'k3':45}"
   ]
  },
  {
   "cell_type": "code",
   "execution_count": null,
   "id": "f6b52d55",
   "metadata": {},
   "outputs": [],
   "source": [
    "for dis in d.items():\n",
    "    print(dis)"
   ]
  },
  {
   "cell_type": "code",
   "execution_count": null,
   "id": "0f95a732",
   "metadata": {},
   "outputs": [],
   "source": []
  }
 ],
 "metadata": {
  "kernelspec": {
   "display_name": "Python 3 (ipykernel)",
   "language": "python",
   "name": "python3"
  },
  "language_info": {
   "codemirror_mode": {
    "name": "ipython",
    "version": 3
   },
   "file_extension": ".py",
   "mimetype": "text/x-python",
   "name": "python",
   "nbconvert_exporter": "python",
   "pygments_lexer": "ipython3",
   "version": "3.11.7"
  }
 },
 "nbformat": 4,
 "nbformat_minor": 5
}
