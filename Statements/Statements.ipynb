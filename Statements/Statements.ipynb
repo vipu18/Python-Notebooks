{
 "cells": [
  {
   "cell_type": "markdown",
   "id": "52b229b4",
   "metadata": {},
   "source": [
    "## If Else Elif"
   ]
  },
  {
   "cell_type": "code",
   "execution_count": 1,
   "id": "b751fa90",
   "metadata": {},
   "outputs": [
    {
     "name": "stdout",
     "output_type": "stream",
     "text": [
      "feed\n"
     ]
    }
   ],
   "source": [
    "hungry = True\n",
    "if hungry:\n",
    "    print(\"feed\")\n",
    "else:\n",
    "    print(\"Hello\")"
   ]
  },
  {
   "cell_type": "code",
   "execution_count": 2,
   "id": "153bf82b",
   "metadata": {},
   "outputs": [
    {
     "name": "stdout",
     "output_type": "stream",
     "text": [
      "true\n"
     ]
    }
   ],
   "source": [
    "loc = 'Factory'\n",
    "if loc == 'Auto':\n",
    "    print('false')\n",
    "elif loc == 'Bank':\n",
    "    print('Money! Money')\n",
    "else:\n",
    "    print('true')"
   ]
  },
  {
   "cell_type": "markdown",
   "id": "571134ca",
   "metadata": {},
   "source": [
    "## For"
   ]
  },
  {
   "cell_type": "code",
   "execution_count": 3,
   "id": "fc6eaba8",
   "metadata": {},
   "outputs": [],
   "source": [
    "mylist = [1, 2, 3, 4, 5, 6, 7, 8, 9, 10]"
   ]
  },
  {
   "cell_type": "code",
   "execution_count": 4,
   "id": "8b4100c2",
   "metadata": {},
   "outputs": [
    {
     "name": "stdout",
     "output_type": "stream",
     "text": [
      "1\n",
      "2\n",
      "3\n",
      "4\n",
      "5\n",
      "6\n",
      "7\n",
      "8\n",
      "9\n",
      "10\n"
     ]
    }
   ],
   "source": [
    "for num in mylist:\n",
    "    print(num)"
   ]
  },
  {
   "cell_type": "code",
   "execution_count": 5,
   "id": "f27d93cd",
   "metadata": {},
   "outputs": [
    {
     "name": "stdout",
     "output_type": "stream",
     "text": [
      "oddnum: 1\n",
      "2\n",
      "oddnum: 3\n",
      "4\n",
      "oddnum: 5\n",
      "6\n",
      "oddnum: 7\n",
      "8\n",
      "oddnum: 9\n",
      "10\n"
     ]
    }
   ],
   "source": [
    "for num in mylist:\n",
    "    if num % 2 == 0:\n",
    "        print(num)\n",
    "    else:\n",
    "        print(f'oddnum: {num}')"
   ]
  },
  {
   "cell_type": "code",
   "execution_count": 6,
   "id": "9941814e",
   "metadata": {},
   "outputs": [
    {
     "name": "stdout",
     "output_type": "stream",
     "text": [
      "55\n"
     ]
    }
   ],
   "source": [
    "list_sum = 0\n",
    "for num in mylist:\n",
    "    list_sum= list_sum + num\n",
    "print(list_sum)"
   ]
  },
  {
   "cell_type": "code",
   "execution_count": 7,
   "id": "7deeaef5",
   "metadata": {},
   "outputs": [
    {
     "name": "stdout",
     "output_type": "stream",
     "text": [
      "h\n",
      "e\n",
      "l\n",
      "l\n",
      "o\n",
      " \n",
      "w\n",
      "o\n",
      "r\n",
      "l\n",
      "d\n"
     ]
    }
   ],
   "source": [
    "string = 'hello world'\n",
    "for letter in string:\n",
    "    print(letter)"
   ]
  },
  {
   "cell_type": "code",
   "execution_count": 8,
   "id": "0abd3309",
   "metadata": {},
   "outputs": [
    {
     "name": "stdout",
     "output_type": "stream",
     "text": [
      "1\n",
      "2\n",
      "3\n"
     ]
    }
   ],
   "source": [
    "tup = (1,2,3)\n",
    "for tupe in tup:\n",
    "    print(tupe)"
   ]
  },
  {
   "cell_type": "code",
   "execution_count": 9,
   "id": "bc22791a",
   "metadata": {},
   "outputs": [],
   "source": [
    "mylist = [(1,2),(2,3),(3,4),(4,5)]"
   ]
  },
  {
   "cell_type": "code",
   "execution_count": 10,
   "id": "da5ca157",
   "metadata": {},
   "outputs": [
    {
     "name": "stdout",
     "output_type": "stream",
     "text": [
      "2\n",
      "3\n",
      "4\n",
      "5\n"
     ]
    }
   ],
   "source": [
    "for (a,b) in mylist:\n",
    "    print(b)"
   ]
  },
  {
   "cell_type": "code",
   "execution_count": 11,
   "id": "c733a254",
   "metadata": {},
   "outputs": [],
   "source": [
    "mylist = [(1,2,3), (4,5,6), (6,7,8)]"
   ]
  },
  {
   "cell_type": "code",
   "execution_count": 12,
   "id": "596457cf",
   "metadata": {},
   "outputs": [
    {
     "name": "stdout",
     "output_type": "stream",
     "text": [
      "(1, 2, 3)\n",
      "(4, 5, 6)\n",
      "(6, 7, 8)\n"
     ]
    }
   ],
   "source": [
    "for item in mylist:\n",
    "    print(item)"
   ]
  },
  {
   "cell_type": "code",
   "execution_count": 13,
   "id": "aea51abf",
   "metadata": {},
   "outputs": [],
   "source": [
    "d = {'k1':1, 'k2':2, 'k3':45}"
   ]
  },
  {
   "cell_type": "code",
   "execution_count": 14,
   "id": "f6b52d55",
   "metadata": {},
   "outputs": [
    {
     "name": "stdout",
     "output_type": "stream",
     "text": [
      "('k1', 1)\n",
      "('k2', 2)\n",
      "('k3', 45)\n"
     ]
    }
   ],
   "source": [
    "for dis in d.items():\n",
    "    print(dis)"
   ]
  },
  {
   "cell_type": "markdown",
   "id": "336e45c0",
   "metadata": {},
   "source": [
    "## While Loop"
   ]
  },
  {
   "cell_type": "code",
   "execution_count": 15,
   "id": "2843fcab",
   "metadata": {},
   "outputs": [],
   "source": [
    "x  = 0"
   ]
  },
  {
   "cell_type": "raw",
   "id": "1f5f57df",
   "metadata": {},
   "source": [
    "while x < 5:\n",
    "    print(f'value of x: {x}')\n",
    "else:\n",
    "    print(\"x is less than 5\")      "
   ]
  },
  {
   "cell_type": "raw",
   "id": "dbecbb0b",
   "metadata": {},
   "source": [
    "break:- breaks out\n",
    "countinue:- goes to top of the closest enclosing loop\n",
    "pass:- does nothing"
   ]
  },
  {
   "cell_type": "code",
   "execution_count": 16,
   "id": "fed2b0c5",
   "metadata": {},
   "outputs": [],
   "source": [
    "x = [1,2,3]"
   ]
  },
  {
   "cell_type": "code",
   "execution_count": 17,
   "id": "5b80bb64",
   "metadata": {},
   "outputs": [],
   "source": [
    "for item in x:\n",
    "    pass"
   ]
  },
  {
   "cell_type": "code",
   "execution_count": 18,
   "id": "4a3f68c8",
   "metadata": {},
   "outputs": [],
   "source": [
    "mystring = 'Sammy'"
   ]
  },
  {
   "cell_type": "code",
   "execution_count": 19,
   "id": "ef449fff",
   "metadata": {},
   "outputs": [
    {
     "name": "stdout",
     "output_type": "stream",
     "text": [
      "S\n"
     ]
    }
   ],
   "source": [
    "for let in mystring:\n",
    "    if let == 'a':\n",
    "        break \n",
    "    print(let)"
   ]
  },
  {
   "cell_type": "code",
   "execution_count": 20,
   "id": "79e43e08",
   "metadata": {},
   "outputs": [
    {
     "name": "stdout",
     "output_type": "stream",
     "text": [
      "0\n",
      "1\n"
     ]
    }
   ],
   "source": [
    "x = 0\n",
    "while x<5:\n",
    "    if x==2:\n",
    "        break\n",
    "    print(x)\n",
    "    x += 1"
   ]
  },
  {
   "cell_type": "markdown",
   "id": "fa7bde1f",
   "metadata": {},
   "source": [
    "## Operators"
   ]
  },
  {
   "cell_type": "code",
   "execution_count": 21,
   "id": "b50d807b",
   "metadata": {},
   "outputs": [],
   "source": [
    "my = [1,2,23]"
   ]
  },
  {
   "cell_type": "code",
   "execution_count": 22,
   "id": "0b4cd887",
   "metadata": {},
   "outputs": [
    {
     "name": "stdout",
     "output_type": "stream",
     "text": [
      "0\n",
      "2\n",
      "4\n",
      "6\n",
      "8\n"
     ]
    }
   ],
   "source": [
    "for num in range(0,10, 2):\n",
    "    print (num)"
   ]
  },
  {
   "cell_type": "code",
   "execution_count": 23,
   "id": "6eae7124",
   "metadata": {},
   "outputs": [
    {
     "data": {
      "text/plain": [
       "[0, 2, 4, 6, 8]"
      ]
     },
     "execution_count": 23,
     "metadata": {},
     "output_type": "execute_result"
    }
   ],
   "source": [
    "list(range(0,10,2))"
   ]
  },
  {
   "cell_type": "code",
   "execution_count": 24,
   "id": "e9a82770",
   "metadata": {},
   "outputs": [
    {
     "name": "stdout",
     "output_type": "stream",
     "text": [
      "a\n",
      "n\n",
      "n\n",
      "n\n"
     ]
    }
   ],
   "source": [
    "index = 0\n",
    "word = 'ando'\n",
    "for letter in word:\n",
    "    print(word[index])\n",
    "    index =+ 1"
   ]
  },
  {
   "cell_type": "code",
   "execution_count": 25,
   "id": "8253ce77",
   "metadata": {},
   "outputs": [
    {
     "name": "stdout",
     "output_type": "stream",
     "text": [
      "0\n",
      "a\n",
      "1\n",
      "b\n",
      "2\n",
      "c\n",
      "3\n",
      "d\n"
     ]
    }
   ],
   "source": [
    "word = 'abcd'\n",
    "for index, letter in enumerate (word):\n",
    "    print(index)\n",
    "    print(letter)"
   ]
  },
  {
   "cell_type": "code",
   "execution_count": 26,
   "id": "3b07e48a",
   "metadata": {},
   "outputs": [],
   "source": [
    "my=[1,2,3]\n",
    "my2=['a', 'b', 'c']"
   ]
  },
  {
   "cell_type": "code",
   "execution_count": 27,
   "id": "3e1584e1",
   "metadata": {},
   "outputs": [
    {
     "name": "stdout",
     "output_type": "stream",
     "text": [
      "(1, 'a')\n",
      "(2, 'b')\n",
      "(3, 'c')\n"
     ]
    }
   ],
   "source": [
    "for item in zip(my, my2):\n",
    "    print(item)"
   ]
  },
  {
   "cell_type": "code",
   "execution_count": 28,
   "id": "3bdfaad3",
   "metadata": {},
   "outputs": [
    {
     "data": {
      "text/plain": [
       "[(1, 'a'), (2, 'b'), (3, 'c')]"
      ]
     },
     "execution_count": 28,
     "metadata": {},
     "output_type": "execute_result"
    }
   ],
   "source": [
    "list(zip(my,my2))"
   ]
  },
  {
   "cell_type": "code",
   "execution_count": 29,
   "id": "4b2e80d3",
   "metadata": {},
   "outputs": [
    {
     "data": {
      "text/plain": [
       "((1, 'a'), (2, 'b'), (3, 'c'))"
      ]
     },
     "execution_count": 29,
     "metadata": {},
     "output_type": "execute_result"
    }
   ],
   "source": [
    "tuple(zip(my, my2))"
   ]
  },
  {
   "cell_type": "code",
   "execution_count": 30,
   "id": "4386f1b8",
   "metadata": {},
   "outputs": [
    {
     "data": {
      "text/plain": [
       "False"
      ]
     },
     "execution_count": 30,
     "metadata": {},
     "output_type": "execute_result"
    }
   ],
   "source": [
    "'x' in my"
   ]
  },
  {
   "cell_type": "code",
   "execution_count": 31,
   "id": "cf25b74c",
   "metadata": {},
   "outputs": [
    {
     "data": {
      "text/plain": [
       "3"
      ]
     },
     "execution_count": 31,
     "metadata": {},
     "output_type": "execute_result"
    }
   ],
   "source": [
    "max(my)"
   ]
  },
  {
   "cell_type": "code",
   "execution_count": 32,
   "id": "9801b263",
   "metadata": {},
   "outputs": [
    {
     "data": {
      "text/plain": [
       "1"
      ]
     },
     "execution_count": 32,
     "metadata": {},
     "output_type": "execute_result"
    }
   ],
   "source": [
    "min(my)"
   ]
  },
  {
   "cell_type": "code",
   "execution_count": 33,
   "id": "4c0addda",
   "metadata": {},
   "outputs": [],
   "source": [
    "from random import shuffle"
   ]
  },
  {
   "cell_type": "code",
   "execution_count": 34,
   "id": "1f81840c",
   "metadata": {},
   "outputs": [],
   "source": [
    "mylist = [1,2,2,3,344,5,5]"
   ]
  },
  {
   "cell_type": "code",
   "execution_count": 35,
   "id": "b11523dc",
   "metadata": {},
   "outputs": [],
   "source": [
    "shuffle(mylist)"
   ]
  },
  {
   "cell_type": "code",
   "execution_count": 36,
   "id": "cbae72e1",
   "metadata": {},
   "outputs": [
    {
     "data": {
      "text/plain": [
       "[1, 5, 2, 344, 2, 5, 3]"
      ]
     },
     "execution_count": 36,
     "metadata": {},
     "output_type": "execute_result"
    }
   ],
   "source": [
    "mylist"
   ]
  },
  {
   "cell_type": "code",
   "execution_count": 37,
   "id": "54429598",
   "metadata": {},
   "outputs": [
    {
     "data": {
      "text/plain": [
       "list"
      ]
     },
     "execution_count": 37,
     "metadata": {},
     "output_type": "execute_result"
    }
   ],
   "source": [
    "type(mylist)"
   ]
  },
  {
   "cell_type": "code",
   "execution_count": 38,
   "id": "6851427b",
   "metadata": {},
   "outputs": [],
   "source": [
    "from random import randint"
   ]
  },
  {
   "cell_type": "code",
   "execution_count": 39,
   "id": "bdcbfc33",
   "metadata": {},
   "outputs": [
    {
     "data": {
      "text/plain": [
       "87"
      ]
     },
     "execution_count": 39,
     "metadata": {},
     "output_type": "execute_result"
    }
   ],
   "source": [
    "randint(0,100)"
   ]
  },
  {
   "cell_type": "code",
   "execution_count": 40,
   "id": "c759fb6d",
   "metadata": {},
   "outputs": [
    {
     "name": "stdout",
     "output_type": "stream",
     "text": [
      "enter: 14\n"
     ]
    },
    {
     "data": {
      "text/plain": [
       "'14'"
      ]
     },
     "execution_count": 40,
     "metadata": {},
     "output_type": "execute_result"
    }
   ],
   "source": [
    "input('enter: ')"
   ]
  },
  {
   "cell_type": "code",
   "execution_count": 41,
   "id": "68245a88",
   "metadata": {},
   "outputs": [
    {
     "name": "stdout",
     "output_type": "stream",
     "text": [
      "Fav: 15\n"
     ]
    }
   ],
   "source": [
    "num = int(input('Fav: '))"
   ]
  },
  {
   "cell_type": "code",
   "execution_count": 42,
   "id": "fe54f29d",
   "metadata": {},
   "outputs": [
    {
     "data": {
      "text/plain": [
       "15"
      ]
     },
     "execution_count": 42,
     "metadata": {},
     "output_type": "execute_result"
    }
   ],
   "source": [
    "num"
   ]
  },
  {
   "cell_type": "code",
   "execution_count": 43,
   "id": "39efb1f7",
   "metadata": {},
   "outputs": [
    {
     "data": {
      "text/plain": [
       "int"
      ]
     },
     "execution_count": 43,
     "metadata": {},
     "output_type": "execute_result"
    }
   ],
   "source": [
    "type(num)"
   ]
  },
  {
   "cell_type": "code",
   "execution_count": 44,
   "id": "7baf0904",
   "metadata": {},
   "outputs": [
    {
     "data": {
      "text/plain": [
       "15.0"
      ]
     },
     "execution_count": 44,
     "metadata": {},
     "output_type": "execute_result"
    }
   ],
   "source": [
    "float(num)"
   ]
  },
  {
   "cell_type": "code",
   "execution_count": 45,
   "id": "3636a11a",
   "metadata": {},
   "outputs": [
    {
     "data": {
      "text/plain": [
       "15"
      ]
     },
     "execution_count": 45,
     "metadata": {},
     "output_type": "execute_result"
    }
   ],
   "source": [
    "int(num)"
   ]
  },
  {
   "cell_type": "markdown",
   "id": "959c075e",
   "metadata": {},
   "source": [
    "## List Comprehensions"
   ]
  },
  {
   "cell_type": "code",
   "execution_count": 46,
   "id": "e8f78f31",
   "metadata": {},
   "outputs": [],
   "source": [
    "mystring = 'hello'"
   ]
  },
  {
   "cell_type": "code",
   "execution_count": 47,
   "id": "422877d7",
   "metadata": {},
   "outputs": [],
   "source": [
    "mylist = []"
   ]
  },
  {
   "cell_type": "code",
   "execution_count": 48,
   "id": "2fd107f1",
   "metadata": {},
   "outputs": [],
   "source": [
    "for let in mystring:\n",
    "    mylist.append(let)"
   ]
  },
  {
   "cell_type": "code",
   "execution_count": 49,
   "id": "50dbc145",
   "metadata": {},
   "outputs": [
    {
     "data": {
      "text/plain": [
       "['h', 'e', 'l', 'l', 'o']"
      ]
     },
     "execution_count": 49,
     "metadata": {},
     "output_type": "execute_result"
    }
   ],
   "source": [
    "mylist"
   ]
  },
  {
   "cell_type": "code",
   "execution_count": 50,
   "id": "7a231790",
   "metadata": {},
   "outputs": [],
   "source": [
    "mylist2 = [let for let in mystring]"
   ]
  },
  {
   "cell_type": "code",
   "execution_count": 51,
   "id": "5f8ec1f2",
   "metadata": {},
   "outputs": [],
   "source": [
    "mylist = [l for l in 'jdhsujdhieuwhd']"
   ]
  },
  {
   "cell_type": "code",
   "execution_count": 52,
   "id": "b4e34504",
   "metadata": {},
   "outputs": [
    {
     "data": {
      "text/plain": [
       "['j', 'd', 'h', 's', 'u', 'j', 'd', 'h', 'i', 'e', 'u', 'w', 'h', 'd']"
      ]
     },
     "execution_count": 52,
     "metadata": {},
     "output_type": "execute_result"
    }
   ],
   "source": [
    "mylist"
   ]
  },
  {
   "cell_type": "code",
   "execution_count": 53,
   "id": "8a07fc16",
   "metadata": {},
   "outputs": [],
   "source": [
    "mylist = [num**2 for num in range(0,10)]"
   ]
  },
  {
   "cell_type": "code",
   "execution_count": 54,
   "id": "da70c6b9",
   "metadata": {},
   "outputs": [
    {
     "data": {
      "text/plain": [
       "[0, 1, 4, 9, 16, 25, 36, 49, 64, 81]"
      ]
     },
     "execution_count": 54,
     "metadata": {},
     "output_type": "execute_result"
    }
   ],
   "source": [
    "mylist"
   ]
  },
  {
   "cell_type": "code",
   "execution_count": 55,
   "id": "b0b64a51",
   "metadata": {},
   "outputs": [],
   "source": [
    "mylis = [x**2 for x in range(0,10) if x%2 ==0]"
   ]
  },
  {
   "cell_type": "code",
   "execution_count": 56,
   "id": "709aded2",
   "metadata": {
    "scrolled": true
   },
   "outputs": [
    {
     "data": {
      "text/plain": [
       "[0, 4, 16, 36, 64]"
      ]
     },
     "execution_count": 56,
     "metadata": {},
     "output_type": "execute_result"
    }
   ],
   "source": [
    "mylis"
   ]
  },
  {
   "cell_type": "code",
   "execution_count": 57,
   "id": "2efd41ce",
   "metadata": {},
   "outputs": [],
   "source": [
    "c = [0, 100, 200, 30, 50]\n",
    "f = [((9/5)*temp +32)for temp in c]"
   ]
  },
  {
   "cell_type": "code",
   "execution_count": 58,
   "id": "d8764f28",
   "metadata": {},
   "outputs": [
    {
     "data": {
      "text/plain": [
       "[32.0, 212.0, 392.0, 86.0, 122.0]"
      ]
     },
     "execution_count": 58,
     "metadata": {},
     "output_type": "execute_result"
    }
   ],
   "source": [
    "f"
   ]
  },
  {
   "cell_type": "code",
   "execution_count": 59,
   "id": "d417de28",
   "metadata": {},
   "outputs": [],
   "source": [
    "f = []\n",
    "for temp in c:\n",
    "    f.append((9/5)*temp + 32)"
   ]
  },
  {
   "cell_type": "code",
   "execution_count": 60,
   "id": "00c95f0c",
   "metadata": {},
   "outputs": [
    {
     "data": {
      "text/plain": [
       "[32.0, 212.0, 392.0, 86.0, 122.0]"
      ]
     },
     "execution_count": 60,
     "metadata": {},
     "output_type": "execute_result"
    }
   ],
   "source": [
    "f"
   ]
  },
  {
   "cell_type": "code",
   "execution_count": 61,
   "id": "0f01402f",
   "metadata": {},
   "outputs": [],
   "source": [
    "res = [x if x % 2 == 0 else 'ODD' for x in range(0,10) ]"
   ]
  },
  {
   "cell_type": "code",
   "execution_count": 62,
   "id": "47377e00",
   "metadata": {},
   "outputs": [
    {
     "data": {
      "text/plain": [
       "[0, 'ODD', 2, 'ODD', 4, 'ODD', 6, 'ODD', 8, 'ODD']"
      ]
     },
     "execution_count": 62,
     "metadata": {},
     "output_type": "execute_result"
    }
   ],
   "source": [
    "res"
   ]
  },
  {
   "cell_type": "code",
   "execution_count": 63,
   "id": "b9410f1f",
   "metadata": {},
   "outputs": [],
   "source": [
    "mylist = []\n",
    "for x in [2,4,6]:\n",
    "    for y in [100, 200, 300]:\n",
    "        mylist.append(x*y)"
   ]
  },
  {
   "cell_type": "code",
   "execution_count": 64,
   "id": "88af5528",
   "metadata": {},
   "outputs": [
    {
     "data": {
      "text/plain": [
       "[200, 400, 600, 400, 800, 1200, 600, 1200, 1800]"
      ]
     },
     "execution_count": 64,
     "metadata": {},
     "output_type": "execute_result"
    }
   ],
   "source": [
    "mylist"
   ]
  },
  {
   "cell_type": "code",
   "execution_count": 65,
   "id": "f5a770cb",
   "metadata": {},
   "outputs": [],
   "source": [
    "mylist = [x*y for x in [2,4,6] for y in [10,20,30] ]"
   ]
  },
  {
   "cell_type": "code",
   "execution_count": 66,
   "id": "d941ef72",
   "metadata": {},
   "outputs": [
    {
     "data": {
      "text/plain": [
       "[20, 40, 60, 40, 80, 120, 60, 120, 180]"
      ]
     },
     "execution_count": 66,
     "metadata": {},
     "output_type": "execute_result"
    }
   ],
   "source": [
    "mylist"
   ]
  },
  {
   "cell_type": "code",
   "execution_count": null,
   "id": "92b5bec1",
   "metadata": {},
   "outputs": [],
   "source": []
  }
 ],
 "metadata": {
  "kernelspec": {
   "display_name": "Python 3 (ipykernel)",
   "language": "python",
   "name": "python3"
  },
  "language_info": {
   "codemirror_mode": {
    "name": "ipython",
    "version": 3
   },
   "file_extension": ".py",
   "mimetype": "text/x-python",
   "name": "python",
   "nbconvert_exporter": "python",
   "pygments_lexer": "ipython3",
   "version": "3.11.7"
  }
 },
 "nbformat": 4,
 "nbformat_minor": 5
}
