{
 "cells": [
  {
   "cell_type": "markdown",
   "id": "52b229b4",
   "metadata": {},
   "source": [
    "## If Else Elif"
   ]
  },
  {
   "cell_type": "code",
   "execution_count": null,
   "id": "b751fa90",
   "metadata": {},
   "outputs": [],
   "source": [
    "hungry = True\n",
    "if hungry:\n",
    "    print(\"feed\")\n",
    "else:\n",
    "    print(\"Hello\")"
   ]
  },
  {
   "cell_type": "code",
   "execution_count": null,
   "id": "153bf82b",
   "metadata": {},
   "outputs": [],
   "source": [
    "loc = 'Factory'\n",
    "if loc == 'Auto':\n",
    "    print('false')\n",
    "elif loc == 'Bank':\n",
    "    print('Money! Money')\n",
    "else:\n",
    "    print('true')"
   ]
  },
  {
   "cell_type": "markdown",
   "id": "571134ca",
   "metadata": {},
   "source": [
    "## For"
   ]
  },
  {
   "cell_type": "code",
   "execution_count": null,
   "id": "fc6eaba8",
   "metadata": {},
   "outputs": [],
   "source": [
    "mylist = [1, 2, 3, 4, 5, 6, 7, 8, 9, 10]"
   ]
  },
  {
   "cell_type": "code",
   "execution_count": null,
   "id": "8b4100c2",
   "metadata": {},
   "outputs": [],
   "source": [
    "for num in mylist:\n",
    "    print(num)"
   ]
  },
  {
   "cell_type": "code",
   "execution_count": null,
   "id": "f27d93cd",
   "metadata": {},
   "outputs": [],
   "source": [
    "for num in mylist:\n",
    "    if num % 2 == 0:\n",
    "        print(num)\n",
    "    else:\n",
    "        print(f'oddnum: {num}')"
   ]
  },
  {
   "cell_type": "code",
   "execution_count": null,
   "id": "9941814e",
   "metadata": {},
   "outputs": [],
   "source": [
    "list_sum = 0\n",
    "for num in mylist:\n",
    "    list_sum= list_sum + num\n",
    "print(list_sum)"
   ]
  },
  {
   "cell_type": "code",
   "execution_count": null,
   "id": "7deeaef5",
   "metadata": {
    "scrolled": true
   },
   "outputs": [],
   "source": [
    "string = 'hello world'\n",
    "for letter in string:\n",
    "    print(letter)"
   ]
  },
  {
   "cell_type": "code",
   "execution_count": null,
   "id": "0abd3309",
   "metadata": {},
   "outputs": [],
   "source": [
    "tup = (1,2,3)\n",
    "for tupe in tup:\n",
    "    print(tupe)"
   ]
  },
  {
   "cell_type": "code",
   "execution_count": null,
   "id": "bc22791a",
   "metadata": {},
   "outputs": [],
   "source": [
    "mylist = [(1,2),(2,3),(3,4),(4,5)]"
   ]
  },
  {
   "cell_type": "code",
   "execution_count": null,
   "id": "da5ca157",
   "metadata": {},
   "outputs": [],
   "source": [
    "for (a,b) in mylist:\n",
    "    print(b)"
   ]
  },
  {
   "cell_type": "code",
   "execution_count": null,
   "id": "c733a254",
   "metadata": {},
   "outputs": [],
   "source": [
    "mylist = [(1,2,3), (4,5,6), (6,7,8)]"
   ]
  },
  {
   "cell_type": "code",
   "execution_count": null,
   "id": "596457cf",
   "metadata": {},
   "outputs": [],
   "source": [
    "for item in mylist:\n",
    "    print(item)"
   ]
  },
  {
   "cell_type": "code",
   "execution_count": null,
   "id": "aea51abf",
   "metadata": {},
   "outputs": [],
   "source": [
    "d = {'k1':1, 'k2':2, 'k3':45}"
   ]
  },
  {
   "cell_type": "code",
   "execution_count": null,
   "id": "f6b52d55",
   "metadata": {},
   "outputs": [],
   "source": [
    "for dis in d.items():\n",
    "    print(dis)"
   ]
  },
  {
   "cell_type": "markdown",
   "id": "2bce4709",
   "metadata": {},
   "source": [
    "## While Loop"
   ]
  },
  {
   "cell_type": "code",
   "execution_count": null,
   "id": "69e4619a",
   "metadata": {},
   "outputs": [],
   "source": [
    "x  = 0"
   ]
  },
  {
   "cell_type": "code",
   "execution_count": null,
   "id": "e69e6ebb",
   "metadata": {},
   "outputs": [],
   "source": [
    "while x < 5:\n",
    "    print(f'value of x: {x}')\n",
    "else:\n",
    "    print(\"x is less than 5\")"
   ]
  },
  {
   "cell_type": "markdown",
   "id": "fc0a9aff",
   "metadata": {},
   "source": [
    "break:- breaks out\n",
    "countinue:- goes to top of the closest enclosing loop\n",
    "pass:- does nothing"
   ]
  },
  {
   "cell_type": "code",
   "execution_count": null,
   "id": "40096611",
   "metadata": {},
   "outputs": [],
   "source": [
    "x = [1,2,3]"
   ]
  },
  {
   "cell_type": "code",
   "execution_count": null,
   "id": "18489bfc",
   "metadata": {},
   "outputs": [],
   "source": [
    "for item in x:\n",
    "    pass"
   ]
  },
  {
   "cell_type": "code",
   "execution_count": null,
   "id": "9ecdf693",
   "metadata": {},
   "outputs": [],
   "source": [
    "mystring = 'Sammy'"
   ]
  },
  {
   "cell_type": "code",
   "execution_count": null,
   "id": "f4b187ce",
   "metadata": {},
   "outputs": [],
   "source": [
    "for let in mystring:\n",
    "    if let == 'a':\n",
    "        break \n",
    "    print(let)"
   ]
  },
  {
   "cell_type": "code",
   "execution_count": 1,
   "id": "f5b46793",
   "metadata": {},
   "outputs": [
    {
     "name": "stdout",
     "output_type": "stream",
     "text": [
      "0\n",
      "1\n"
     ]
    }
   ],
   "source": [
    "x = 0\n",
    "while x<5:\n",
    "    if x==2:\n",
    "        break\n",
    "    print(x)\n",
    "    x += 1"
   ]
  },
  {
   "cell_type": "markdown",
   "id": "4c13937a",
   "metadata": {},
   "source": [
    "## Operators"
   ]
  },
  {
   "cell_type": "code",
   "execution_count": 2,
   "id": "16de70d5",
   "metadata": {},
   "outputs": [],
   "source": [
    "my = [1,2,23]"
   ]
  },
  {
   "cell_type": "code",
   "execution_count": 5,
   "id": "89338538",
   "metadata": {},
   "outputs": [
    {
     "name": "stdout",
     "output_type": "stream",
     "text": [
      "0\n",
      "2\n",
      "4\n",
      "6\n",
      "8\n"
     ]
    }
   ],
   "source": [
    "for num in range(0,10, 2):\n",
    "    print (num)"
   ]
  },
  {
   "cell_type": "code",
   "execution_count": null,
   "id": "c05b80a3",
   "metadata": {},
   "outputs": [],
   "source": []
  }
 ],
 "metadata": {
  "kernelspec": {
   "display_name": "Python 3 (ipykernel)",
   "language": "python",
   "name": "python3"
  },
  "language_info": {
   "codemirror_mode": {
    "name": "ipython",
    "version": 3
   },
   "file_extension": ".py",
   "mimetype": "text/x-python",
   "name": "python",
   "nbconvert_exporter": "python",
   "pygments_lexer": "ipython3",
   "version": "3.11.7"
  }
 },
 "nbformat": 4,
 "nbformat_minor": 5
}
