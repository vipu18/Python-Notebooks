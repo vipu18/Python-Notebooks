{
 "cells": [
  {
   "cell_type": "markdown",
   "id": "13ecfd73",
   "metadata": {},
   "source": [
    "#### Int Data Structure"
   ]
  },
  {
   "cell_type": "code",
   "execution_count": 1,
   "id": "88438a07",
   "metadata": {},
   "outputs": [],
   "source": [
    "a = 10"
   ]
  },
  {
   "cell_type": "code",
   "execution_count": 2,
   "id": "875c683e",
   "metadata": {},
   "outputs": [
    {
     "data": {
      "text/plain": [
       "int"
      ]
     },
     "execution_count": 2,
     "metadata": {},
     "output_type": "execute_result"
    }
   ],
   "source": [
    "type (a) #to check type of data structrue"
   ]
  },
  {
   "cell_type": "code",
   "execution_count": 3,
   "id": "3a3da493",
   "metadata": {},
   "outputs": [],
   "source": [
    "int = 4"
   ]
  },
  {
   "cell_type": "code",
   "execution_count": 4,
   "id": "cafd3157",
   "metadata": {},
   "outputs": [
    {
     "data": {
      "text/plain": [
       "int"
      ]
     },
     "execution_count": 4,
     "metadata": {},
     "output_type": "execute_result"
    }
   ],
   "source": [
    "type(int)"
   ]
  },
  {
   "cell_type": "code",
   "execution_count": 5,
   "id": "16a112c4",
   "metadata": {},
   "outputs": [],
   "source": [
    "my_income = 100\n",
    "tax_rate = 0.1\n",
    "my_taxes = my_income * tax_rate"
   ]
  },
  {
   "cell_type": "code",
   "execution_count": 6,
   "id": "3f669b8a",
   "metadata": {},
   "outputs": [
    {
     "data": {
      "text/plain": [
       "10.0"
      ]
     },
     "execution_count": 6,
     "metadata": {},
     "output_type": "execute_result"
    }
   ],
   "source": [
    "my_taxes"
   ]
  },
  {
   "cell_type": "markdown",
   "id": "ba7b3550",
   "metadata": {},
   "source": [
    "#### Strings\n",
    "Ordered Sequence using indexing and slicing"
   ]
  },
  {
   "cell_type": "code",
   "execution_count": 7,
   "id": "86fcc7f1-b509-4104-9766-5dbe7b9b3a68",
   "metadata": {},
   "outputs": [
    {
     "name": "stdout",
     "output_type": "stream",
     "text": [
      "hello\n"
     ]
    }
   ],
   "source": [
    "print(\"hello\")"
   ]
  },
  {
   "cell_type": "code",
   "execution_count": 8,
   "id": "971494dc-f321-477a-99b0-2e6ea139016a",
   "metadata": {},
   "outputs": [
    {
     "data": {
      "text/plain": [
       "'r'"
      ]
     },
     "execution_count": 8,
     "metadata": {},
     "output_type": "execute_result"
    }
   ],
   "source": [
    "'hello world'[8] #one  line to print a letter"
   ]
  },
  {
   "cell_type": "code",
   "execution_count": 9,
   "id": "fbcb995a-4ef4-46bc-bfbe-ad900124e224",
   "metadata": {},
   "outputs": [
    {
     "name": "stdout",
     "output_type": "stream",
     "text": [
      "hello \n",
      "world\n"
     ]
    }
   ],
   "source": [
    "print('hello \\nworld')"
   ]
  },
  {
   "cell_type": "code",
   "execution_count": 10,
   "id": "d8f7331d-4222-4f30-a6f8-f9136bafabbf",
   "metadata": {
    "scrolled": true
   },
   "outputs": [
    {
     "data": {
      "text/plain": [
       "5"
      ]
     },
     "execution_count": 10,
     "metadata": {},
     "output_type": "execute_result"
    }
   ],
   "source": [
    "len(\"hello\") #string size"
   ]
  },
  {
   "cell_type": "code",
   "execution_count": 11,
   "id": "243555ff-c843-4529-bcde-6fa5d2a21ac9",
   "metadata": {},
   "outputs": [],
   "source": [
    "mystring = \"hello world\" #print the string"
   ]
  },
  {
   "cell_type": "code",
   "execution_count": 12,
   "id": "4a0c3a16-0324-4944-9ec3-2be2cadadedb",
   "metadata": {},
   "outputs": [
    {
     "data": {
      "text/plain": [
       "'hello world'"
      ]
     },
     "execution_count": 12,
     "metadata": {},
     "output_type": "execute_result"
    }
   ],
   "source": [
    "mystring"
   ]
  },
  {
   "cell_type": "code",
   "execution_count": 13,
   "id": "356c9254-51b7-44c3-bc43-a0faa9d74bca",
   "metadata": {},
   "outputs": [
    {
     "data": {
      "text/plain": [
       "'h'"
      ]
     },
     "execution_count": 13,
     "metadata": {},
     "output_type": "execute_result"
    }
   ],
   "source": [
    "mystring[0] #string from starting"
   ]
  },
  {
   "cell_type": "code",
   "execution_count": 14,
   "id": "ac3d604a-9859-49a8-a283-b7cb46f93a77",
   "metadata": {},
   "outputs": [
    {
     "data": {
      "text/plain": [
       "'l'"
      ]
     },
     "execution_count": 14,
     "metadata": {},
     "output_type": "execute_result"
    }
   ],
   "source": [
    "mystring[-2] #string from end"
   ]
  },
  {
   "cell_type": "markdown",
   "id": "b3f4cb98-3d53-4d8a-884b-527ae8dccaf6",
   "metadata": {},
   "source": [
    "#### Slicing"
   ]
  },
  {
   "cell_type": "code",
   "execution_count": 15,
   "id": "7484e38d-fd58-400b-bf17-c1175bf5fe8b",
   "metadata": {},
   "outputs": [],
   "source": [
    "mystring = \"abcdefghijk\""
   ]
  },
  {
   "cell_type": "code",
   "execution_count": 16,
   "id": "403e1c15-4b76-4346-b0a2-578de7c3f9de",
   "metadata": {},
   "outputs": [
    {
     "data": {
      "text/plain": [
       "'abcdefghijk'"
      ]
     },
     "execution_count": 16,
     "metadata": {},
     "output_type": "execute_result"
    }
   ],
   "source": [
    "mystring"
   ]
  },
  {
   "cell_type": "code",
   "execution_count": 17,
   "id": "6a4a6c99-bd2d-4042-9ba1-5fe0e980c4ce",
   "metadata": {},
   "outputs": [
    {
     "data": {
      "text/plain": [
       "'cdefghijk'"
      ]
     },
     "execution_count": 17,
     "metadata": {},
     "output_type": "execute_result"
    }
   ],
   "source": [
    "mystring[2:] #starts from the nth term 0123456789"
   ]
  },
  {
   "cell_type": "code",
   "execution_count": 18,
   "id": "5655f135-15e3-49b8-9dde-7bf4958fbdb7",
   "metadata": {},
   "outputs": [
    {
     "data": {
      "text/plain": [
       "'abc'"
      ]
     },
     "execution_count": 18,
     "metadata": {},
     "output_type": "execute_result"
    }
   ],
   "source": [
    "mystring[:3]"
   ]
  },
  {
   "cell_type": "code",
   "execution_count": 19,
   "id": "86c0ab0d-ef6c-42c6-bcd1-0b3d5b32c0f2",
   "metadata": {},
   "outputs": [
    {
     "data": {
      "text/plain": [
       "'defg'"
      ]
     },
     "execution_count": 19,
     "metadata": {},
     "output_type": "execute_result"
    }
   ],
   "source": [
    "mystring[3:7] #starts from the nth term specified node to specified node"
   ]
  },
  {
   "cell_type": "code",
   "execution_count": 20,
   "id": "284b8d6a-9e92-4326-8cdd-48cd02ab0c38",
   "metadata": {},
   "outputs": [
    {
     "data": {
      "text/plain": [
       "'adgj'"
      ]
     },
     "execution_count": 20,
     "metadata": {},
     "output_type": "execute_result"
    }
   ],
   "source": [
    "mystring[::3] #skip n numbers between"
   ]
  },
  {
   "cell_type": "code",
   "execution_count": 21,
   "id": "728c2f11-0c3b-400f-a759-249b43fc9b93",
   "metadata": {},
   "outputs": [
    {
     "data": {
      "text/plain": [
       "'kjihgfedcba'"
      ]
     },
     "execution_count": 21,
     "metadata": {},
     "output_type": "execute_result"
    }
   ],
   "source": [
    " mystring[::-1] #reverse a sring"
   ]
  },
  {
   "cell_type": "code",
   "execution_count": 22,
   "id": "74177412-0d8b-4bfa-83c2-a95db8233966",
   "metadata": {},
   "outputs": [],
   "source": [
    "name = \"Vipu\""
   ]
  },
  {
   "cell_type": "code",
   "execution_count": 23,
   "id": "38759db1-5a3c-4709-92df-1d8672bd72c5",
   "metadata": {},
   "outputs": [],
   "source": [
    "last = name[1:]"
   ]
  },
  {
   "cell_type": "code",
   "execution_count": 24,
   "id": "9d7c9ba3-0e92-4ded-8973-885fb07957c9",
   "metadata": {},
   "outputs": [
    {
     "data": {
      "text/plain": [
       "'Pipu'"
      ]
     },
     "execution_count": 24,
     "metadata": {},
     "output_type": "execute_result"
    }
   ],
   "source": [
    "'P' + last"
   ]
  },
  {
   "cell_type": "code",
   "execution_count": 25,
   "id": "f03d969a-2e76-4dea-849b-6b41ec025d82",
   "metadata": {},
   "outputs": [],
   "source": [
    "x = \"Hello World\""
   ]
  },
  {
   "cell_type": "code",
   "execution_count": 26,
   "id": "b9b5b568-5570-414e-94ee-6df9c9ccbcc4",
   "metadata": {},
   "outputs": [
    {
     "data": {
      "text/plain": [
       "'Hello World it is beautiful outside!'"
      ]
     },
     "execution_count": 26,
     "metadata": {},
     "output_type": "execute_result"
    }
   ],
   "source": [
    "x + \" it is beautiful outside!\""
   ]
  },
  {
   "cell_type": "code",
   "execution_count": 27,
   "id": "5b44140d-fdab-47e7-89b4-ad0a54fa5f38",
   "metadata": {},
   "outputs": [],
   "source": [
    "letter = 'v'"
   ]
  },
  {
   "cell_type": "code",
   "execution_count": 28,
   "id": "b54c3234-70ae-421c-9c6f-2d272b4261f8",
   "metadata": {},
   "outputs": [
    {
     "data": {
      "text/plain": [
       "'vvvvvvvvvv'"
      ]
     },
     "execution_count": 28,
     "metadata": {},
     "output_type": "execute_result"
    }
   ],
   "source": [
    "letter *  10"
   ]
  },
  {
   "cell_type": "code",
   "execution_count": 29,
   "id": "dd3a5f8b-5c9c-414f-b93d-0b9b2279088f",
   "metadata": {},
   "outputs": [],
   "source": [
    "x = \"hello world\""
   ]
  },
  {
   "cell_type": "code",
   "execution_count": 30,
   "id": "058aa2a8-df2e-4b9f-b34b-1eee988574c3",
   "metadata": {},
   "outputs": [
    {
     "data": {
      "text/plain": [
       "'HELLO WORLD'"
      ]
     },
     "execution_count": 30,
     "metadata": {},
     "output_type": "execute_result"
    }
   ],
   "source": [
    "x.upper()"
   ]
  },
  {
   "cell_type": "code",
   "execution_count": 31,
   "id": "d23390a8-6548-4928-9dff-c225b12f454a",
   "metadata": {},
   "outputs": [
    {
     "data": {
      "text/plain": [
       "['hello', 'world']"
      ]
     },
     "execution_count": 31,
     "metadata": {},
     "output_type": "execute_result"
    }
   ],
   "source": [
    "x.split()"
   ]
  },
  {
   "cell_type": "code",
   "execution_count": 32,
   "id": "2a8926d0-d3c1-45cd-96ef-3aacae9e8b0d",
   "metadata": {},
   "outputs": [
    {
     "data": {
      "text/plain": [
       "['he', '', 'o wor', 'd']"
      ]
     },
     "execution_count": 32,
     "metadata": {},
     "output_type": "execute_result"
    }
   ],
   "source": [
    "x.split('l')"
   ]
  },
  {
   "cell_type": "markdown",
   "id": "48c84a85-d43b-45e2-b942-57acbe3409fc",
   "metadata": {},
   "source": [
    "#### Formatting"
   ]
  },
  {
   "cell_type": "code",
   "execution_count": 33,
   "id": "b9fba611-3cc5-48e7-8db2-238ece949e44",
   "metadata": {},
   "outputs": [
    {
     "name": "stdout",
     "output_type": "stream",
     "text": [
      "this is a string Insert\n"
     ]
    }
   ],
   "source": [
    "print('this is a string {}'.format('Insert'))"
   ]
  },
  {
   "cell_type": "code",
   "execution_count": 34,
   "id": "48e2c3c4-57eb-41a2-99a2-4d6fad05421c",
   "metadata": {},
   "outputs": [
    {
     "name": "stdout",
     "output_type": "stream",
     "text": [
      "The foz foz fuss\n"
     ]
    }
   ],
   "source": [
    "print('The {0} {0} {1}'.format('foz', 'fuss', 'fuse'))"
   ]
  },
  {
   "cell_type": "code",
   "execution_count": 35,
   "id": "0c9e529e-c2fd-4ecc-8a74-caf4511a92c4",
   "metadata": {},
   "outputs": [
    {
     "name": "stdout",
     "output_type": "stream",
     "text": [
      "The foz fuss fuse\n"
     ]
    }
   ],
   "source": [
    "print('The {f} {b} {c}'.format(f='foz', b='fuss', c='fuse'))"
   ]
  },
  {
   "cell_type": "code",
   "execution_count": 36,
   "id": "3247d242-7563-452b-ba3f-6be2b4f9dad3",
   "metadata": {},
   "outputs": [],
   "source": [
    "result = 100/7"
   ]
  },
  {
   "cell_type": "code",
   "execution_count": 37,
   "id": "78db2529-0130-4df5-87e1-f72f7ec9dc8b",
   "metadata": {},
   "outputs": [
    {
     "data": {
      "text/plain": [
       "14.285714285714286"
      ]
     },
     "execution_count": 37,
     "metadata": {},
     "output_type": "execute_result"
    }
   ],
   "source": [
    "result"
   ]
  },
  {
   "cell_type": "code",
   "execution_count": 38,
   "id": "d0783324-085c-4d07-aa2c-fa2d32203565",
   "metadata": {},
   "outputs": [
    {
     "name": "stdout",
     "output_type": "stream",
     "text": [
      "The result 14.286\n"
     ]
    }
   ],
   "source": [
    "print(\"The result {r:1.3f}\".format(r=result))"
   ]
  },
  {
   "cell_type": "markdown",
   "id": "103a25cd-390c-4584-b499-7761b4cba9ba",
   "metadata": {},
   "source": [
    "## {r:1:.3f} (operator to print: whitespace: no of decimal place)"
   ]
  },
  {
   "cell_type": "markdown",
   "id": "5f0ba80b-85a2-4c23-9a55-385828ef44ca",
   "metadata": {},
   "source": [
    "## Printing"
   ]
  },
  {
   "cell_type": "code",
   "execution_count": 39,
   "id": "44f47c11-d3f2-478c-bb94-efdf43b17bd7",
   "metadata": {},
   "outputs": [],
   "source": [
    "name = \"Jose\""
   ]
  },
  {
   "cell_type": "markdown",
   "id": "fd2c171f-34a8-429c-89d2-53c89c075ac1",
   "metadata": {},
   "source": [
    "f is formated string literal"
   ]
  },
  {
   "cell_type": "code",
   "execution_count": 40,
   "id": "4a353962-b1c9-4e2e-8a7c-318815129396",
   "metadata": {},
   "outputs": [
    {
     "name": "stdout",
     "output_type": "stream",
     "text": [
      "hello Jose\n"
     ]
    }
   ],
   "source": [
    "print(f'hello {name}')"
   ]
  },
  {
   "cell_type": "code",
   "execution_count": 41,
   "id": "27d54038-7bba-4290-badc-bf68b63aef33",
   "metadata": {},
   "outputs": [
    {
     "name": "stdout",
     "output_type": "stream",
     "text": [
      "hello Jose\n"
     ]
    }
   ],
   "source": [
    "print('hello {a}'.format(a = name))"
   ]
  },
  {
   "cell_type": "code",
   "execution_count": 42,
   "id": "f0a90490-b099-4d17-b10e-816d07993561",
   "metadata": {},
   "outputs": [
    {
     "name": "stdout",
     "output_type": "stream",
     "text": [
      "Jose\n"
     ]
    }
   ],
   "source": [
    "print (name)"
   ]
  },
  {
   "cell_type": "markdown",
   "id": "bf1d2aff-4ae7-4716-922f-b823ee6fbd75",
   "metadata": {},
   "source": [
    "## List:- retreives value by index"
   ]
  },
  {
   "cell_type": "code",
   "execution_count": 43,
   "id": "4fa57c50-ee37-4ddf-888c-9610788f06d9",
   "metadata": {},
   "outputs": [],
   "source": [
    "my_list = [1,2,3]"
   ]
  },
  {
   "cell_type": "code",
   "execution_count": 44,
   "id": "346552af-8e13-4043-9b40-d0c330fd1ed7",
   "metadata": {},
   "outputs": [
    {
     "data": {
      "text/plain": [
       "3"
      ]
     },
     "execution_count": 44,
     "metadata": {},
     "output_type": "execute_result"
    }
   ],
   "source": [
    "len(my_list)"
   ]
  },
  {
   "cell_type": "code",
   "execution_count": 45,
   "id": "fd2bf38a-fa56-4668-946d-065389ce28a5",
   "metadata": {},
   "outputs": [],
   "source": [
    "my_list = ['STRING', 100, 23.2]"
   ]
  },
  {
   "cell_type": "code",
   "execution_count": 46,
   "id": "f56c3fcb-7ef6-4ad2-a339-932450bc00f6",
   "metadata": {},
   "outputs": [
    {
     "name": "stdout",
     "output_type": "stream",
     "text": [
      "['STRING', 100, 23.2]\n"
     ]
    }
   ],
   "source": [
    "print(my_list)"
   ]
  },
  {
   "cell_type": "code",
   "execution_count": 47,
   "id": "2cbc0cae-7a1b-422f-8a42-6506b73d9a23",
   "metadata": {},
   "outputs": [],
   "source": [
    "my_list = ['one','two','three']"
   ]
  },
  {
   "cell_type": "code",
   "execution_count": 48,
   "id": "e3c6208e-d178-4106-a1f7-3a7569c64b7d",
   "metadata": {},
   "outputs": [
    {
     "data": {
      "text/plain": [
       "'one'"
      ]
     },
     "execution_count": 48,
     "metadata": {},
     "output_type": "execute_result"
    }
   ],
   "source": [
    "my_list[0]"
   ]
  },
  {
   "cell_type": "code",
   "execution_count": 49,
   "id": "03edc6fa-dd41-4b73-8314-44ce7c2fcb1d",
   "metadata": {},
   "outputs": [
    {
     "data": {
      "text/plain": [
       "['two', 'three']"
      ]
     },
     "execution_count": 49,
     "metadata": {},
     "output_type": "execute_result"
    }
   ],
   "source": [
    "my_list[1:]"
   ]
  },
  {
   "cell_type": "code",
   "execution_count": 50,
   "id": "e9461988-0644-44c1-bddf-b81be05c168c",
   "metadata": {},
   "outputs": [],
   "source": [
    "my2_list = ['four', 'five']"
   ]
  },
  {
   "cell_type": "code",
   "execution_count": 51,
   "id": "136d77c7-79eb-44b3-b846-d2fa3345d5b6",
   "metadata": {},
   "outputs": [],
   "source": [
    "new_list = my_list + my2_list"
   ]
  },
  {
   "cell_type": "code",
   "execution_count": 52,
   "id": "2a8481ab-fa04-45a6-ad21-69677d89d361",
   "metadata": {},
   "outputs": [
    {
     "name": "stdout",
     "output_type": "stream",
     "text": [
      "['one', 'two', 'three', 'four', 'five']\n"
     ]
    }
   ],
   "source": [
    "print(new_list)"
   ]
  },
  {
   "cell_type": "code",
   "execution_count": 53,
   "id": "c7909458-df69-4bb4-a9d6-552a4f20e16a",
   "metadata": {},
   "outputs": [
    {
     "data": {
      "text/plain": [
       "['one', 'two', 'three', 'four', 'five']"
      ]
     },
     "execution_count": 53,
     "metadata": {},
     "output_type": "execute_result"
    }
   ],
   "source": [
    "new_list"
   ]
  },
  {
   "cell_type": "code",
   "execution_count": 54,
   "id": "0f4fd5ae-a179-4fcb-97c3-74d0de5988d0",
   "metadata": {},
   "outputs": [],
   "source": [
    "new_list[0] = 'One'"
   ]
  },
  {
   "cell_type": "code",
   "execution_count": 55,
   "id": "36b740f1-bfa4-436b-b76f-f29e6587c401",
   "metadata": {},
   "outputs": [
    {
     "data": {
      "text/plain": [
       "['One', 'two', 'three', 'four', 'five']"
      ]
     },
     "execution_count": 55,
     "metadata": {},
     "output_type": "execute_result"
    }
   ],
   "source": [
    "new_list"
   ]
  },
  {
   "cell_type": "code",
   "execution_count": 56,
   "id": "235d277f-ed22-44a4-9339-fa967cab76cb",
   "metadata": {},
   "outputs": [],
   "source": [
    "new_list.append('six') #allow to add element at end"
   ]
  },
  {
   "cell_type": "code",
   "execution_count": 57,
   "id": "a9d9e805-d897-4a22-85e7-f014544aea75",
   "metadata": {},
   "outputs": [
    {
     "data": {
      "text/plain": [
       "'six'"
      ]
     },
     "execution_count": 57,
     "metadata": {},
     "output_type": "execute_result"
    }
   ],
   "source": [
    "new_list.pop()"
   ]
  },
  {
   "cell_type": "code",
   "execution_count": 58,
   "id": "374a1393-76fa-4f43-933b-0f5f7cd4f92c",
   "metadata": {},
   "outputs": [
    {
     "data": {
      "text/plain": [
       "['One', 'two', 'three', 'four', 'five']"
      ]
     },
     "execution_count": 58,
     "metadata": {},
     "output_type": "execute_result"
    }
   ],
   "source": [
    "new_list"
   ]
  },
  {
   "cell_type": "code",
   "execution_count": 59,
   "id": "f9f529d7-825c-4de4-a155-49275d97fa62",
   "metadata": {},
   "outputs": [
    {
     "data": {
      "text/plain": [
       "'five'"
      ]
     },
     "execution_count": 59,
     "metadata": {},
     "output_type": "execute_result"
    }
   ],
   "source": [
    "new_list.pop()"
   ]
  },
  {
   "cell_type": "code",
   "execution_count": 60,
   "id": "8f011d57-53fe-494c-b84e-05d5c6f96ebd",
   "metadata": {},
   "outputs": [
    {
     "data": {
      "text/plain": [
       "['One', 'two', 'three', 'four']"
      ]
     },
     "execution_count": 60,
     "metadata": {},
     "output_type": "execute_result"
    }
   ],
   "source": [
    "new_list"
   ]
  },
  {
   "cell_type": "code",
   "execution_count": 61,
   "id": "4775b632-fa12-4cc4-bd9a-c8a613a43cfd",
   "metadata": {},
   "outputs": [],
   "source": [
    "pop_item = new_list.pop()"
   ]
  },
  {
   "cell_type": "code",
   "execution_count": 62,
   "id": "a70a68b9-4a89-4b53-bedb-d15b97b5b219",
   "metadata": {},
   "outputs": [
    {
     "data": {
      "text/plain": [
       "'four'"
      ]
     },
     "execution_count": 62,
     "metadata": {},
     "output_type": "execute_result"
    }
   ],
   "source": [
    "pop_item"
   ]
  },
  {
   "cell_type": "code",
   "execution_count": 63,
   "id": "51afc36e-0f5b-44f0-8ecd-504f3fa0c41a",
   "metadata": {},
   "outputs": [],
   "source": [
    "my_list = ['a','e','i','o','b']"
   ]
  },
  {
   "cell_type": "code",
   "execution_count": 64,
   "id": "953f6262-15da-427c-a36a-5a6764955360",
   "metadata": {},
   "outputs": [],
   "source": [
    "my_list.sort()"
   ]
  },
  {
   "cell_type": "code",
   "execution_count": 65,
   "id": "fe3bf5e2-9bd1-4299-8d57-2f69a3d75bd4",
   "metadata": {},
   "outputs": [
    {
     "data": {
      "text/plain": [
       "['a', 'b', 'e', 'i', 'o']"
      ]
     },
     "execution_count": 65,
     "metadata": {},
     "output_type": "execute_result"
    }
   ],
   "source": [
    "my_list"
   ]
  },
  {
   "cell_type": "code",
   "execution_count": 66,
   "id": "8f28e551-bf34-48a7-8443-9877b164a525",
   "metadata": {},
   "outputs": [
    {
     "data": {
      "text/plain": [
       "list"
      ]
     },
     "execution_count": 66,
     "metadata": {},
     "output_type": "execute_result"
    }
   ],
   "source": [
    "type(my_list)"
   ]
  },
  {
   "cell_type": "code",
   "execution_count": 67,
   "id": "e0276309-a976-4f97-91b3-e96f63da4902",
   "metadata": {},
   "outputs": [],
   "source": [
    "my_list.reverse()"
   ]
  },
  {
   "cell_type": "code",
   "execution_count": 68,
   "id": "638ed106-5464-4848-878d-bdab088fc11c",
   "metadata": {},
   "outputs": [
    {
     "data": {
      "text/plain": [
       "['o', 'i', 'e', 'b', 'a']"
      ]
     },
     "execution_count": 68,
     "metadata": {},
     "output_type": "execute_result"
    }
   ],
   "source": [
    "my_list"
   ]
  },
  {
   "cell_type": "markdown",
   "id": "075d73ac-ebb6-4a52-945e-ab7486a9e4c6",
   "metadata": {},
   "source": [
    "## Dictionaries:- retreives value by key or value"
   ]
  },
  {
   "cell_type": "code",
   "execution_count": 69,
   "id": "b1d1ae12-b917-49cf-9bbc-59590eb4e1d2",
   "metadata": {},
   "outputs": [],
   "source": [
    "prices = {'apple' : 2}"
   ]
  },
  {
   "cell_type": "code",
   "execution_count": 70,
   "id": "dfb4cc71-501f-4a81-b1d0-eff3647c5d46",
   "metadata": {},
   "outputs": [
    {
     "data": {
      "text/plain": [
       "dict"
      ]
     },
     "execution_count": 70,
     "metadata": {},
     "output_type": "execute_result"
    }
   ],
   "source": [
    "type(prices)"
   ]
  },
  {
   "cell_type": "code",
   "execution_count": 71,
   "id": "3cb86350-9392-418a-ac6c-1abc6bd009a2",
   "metadata": {},
   "outputs": [
    {
     "data": {
      "text/plain": [
       "2"
      ]
     },
     "execution_count": 71,
     "metadata": {},
     "output_type": "execute_result"
    }
   ],
   "source": [
    "prices['apple']"
   ]
  },
  {
   "cell_type": "code",
   "execution_count": 72,
   "id": "b99dbbf6-39b9-40b6-8153-4cde82f4494a",
   "metadata": {},
   "outputs": [],
   "source": [
    "d = {'k1': 123, 'k2':[100],}"
   ]
  },
  {
   "cell_type": "code",
   "execution_count": 73,
   "id": "eb0e4ee0-b803-4f47-961b-c2ab892d5285",
   "metadata": {},
   "outputs": [
    {
     "data": {
      "text/plain": [
       "dict"
      ]
     },
     "execution_count": 73,
     "metadata": {},
     "output_type": "execute_result"
    }
   ],
   "source": [
    "type(d)"
   ]
  },
  {
   "cell_type": "code",
   "execution_count": 74,
   "id": "298f8634-f7c0-4150-8044-5de9c91fa021",
   "metadata": {},
   "outputs": [
    {
     "data": {
      "text/plain": [
       "123"
      ]
     },
     "execution_count": 74,
     "metadata": {},
     "output_type": "execute_result"
    }
   ],
   "source": [
    "d['k1']"
   ]
  },
  {
   "cell_type": "code",
   "execution_count": null,
   "id": "c1067e7c",
   "metadata": {},
   "outputs": [],
   "source": []
  }
 ],
 "metadata": {
  "kernelspec": {
   "display_name": "Python 3 (ipykernel)",
   "language": "python",
   "name": "python3"
  },
  "language_info": {
   "codemirror_mode": {
    "name": "ipython",
    "version": 3
   },
   "file_extension": ".py",
   "mimetype": "text/x-python",
   "name": "python",
   "nbconvert_exporter": "python",
   "pygments_lexer": "ipython3",
   "version": "3.11.7"
  }
 },
 "nbformat": 4,
 "nbformat_minor": 5
}
