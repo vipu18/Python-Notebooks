{
 "cells": [
  {
   "cell_type": "markdown",
   "id": "13ecfd73",
   "metadata": {},
   "source": [
    "#### Int Data Structure"
   ]
  },
  {
   "cell_type": "code",
   "execution_count": 1,
   "id": "88438a07",
   "metadata": {},
   "outputs": [],
   "source": [
    "a = 10"
   ]
  },
  {
   "cell_type": "code",
   "execution_count": 4,
   "id": "875c683e",
   "metadata": {},
   "outputs": [
    {
     "data": {
      "text/plain": [
       "int"
      ]
     },
     "execution_count": 4,
     "metadata": {},
     "output_type": "execute_result"
    }
   ],
   "source": [
    "type (a) #to check type of data structrue"
   ]
  },
  {
   "cell_type": "code",
   "execution_count": 5,
   "id": "3a3da493",
   "metadata": {},
   "outputs": [],
   "source": [
    "int = 4"
   ]
  },
  {
   "cell_type": "code",
   "execution_count": 6,
   "id": "cafd3157",
   "metadata": {},
   "outputs": [
    {
     "data": {
      "text/plain": [
       "int"
      ]
     },
     "execution_count": 6,
     "metadata": {},
     "output_type": "execute_result"
    }
   ],
   "source": [
    "type(int)"
   ]
  },
  {
   "cell_type": "code",
   "execution_count": 1,
   "id": "16a112c4",
   "metadata": {},
   "outputs": [],
   "source": [
    "my_income = 100\n",
    "tax_rate = 0.1\n",
    "my_taxes = my_income * tax_rate"
   ]
  },
  {
   "cell_type": "code",
   "execution_count": 8,
   "id": "3f669b8a",
   "metadata": {},
   "outputs": [
    {
     "data": {
      "text/plain": [
       "10.0"
      ]
     },
     "execution_count": 8,
     "metadata": {},
     "output_type": "execute_result"
    }
   ],
   "source": [
    "my_taxes"
   ]
  },
  {
   "cell_type": "markdown",
   "id": "ba7b3550",
   "metadata": {},
   "source": [
    "#### Strings\n",
    "Ordered Sequence using indexing and slicing"
   ]
  },
  {
   "cell_type": "code",
   "execution_count": 5,
   "id": "86fcc7f1-b509-4104-9766-5dbe7b9b3a68",
   "metadata": {},
   "outputs": [
    {
     "name": "stdout",
     "output_type": "stream",
     "text": [
      "hello\n"
     ]
    }
   ],
   "source": [
    "print(\"hello\")"
   ]
  },
  {
   "cell_type": "code",
   "execution_count": 28,
   "id": "971494dc-f321-477a-99b0-2e6ea139016a",
   "metadata": {},
   "outputs": [
    {
     "data": {
      "text/plain": [
       "'r'"
      ]
     },
     "execution_count": 28,
     "metadata": {},
     "output_type": "execute_result"
    }
   ],
   "source": [
    "'hello world'[8] #one  line to print a letter"
   ]
  },
  {
   "cell_type": "code",
   "execution_count": 25,
   "id": "fbcb995a-4ef4-46bc-bfbe-ad900124e224",
   "metadata": {},
   "outputs": [
    {
     "name": "stdout",
     "output_type": "stream",
     "text": [
      "hello \n",
      "world\n"
     ]
    }
   ],
   "source": [
    "print('hello \\nworld')"
   ]
  },
  {
   "cell_type": "code",
   "execution_count": 11,
   "id": "d8f7331d-4222-4f30-a6f8-f9136bafabbf",
   "metadata": {
    "scrolled": true
   },
   "outputs": [
    {
     "data": {
      "text/plain": [
       "5"
      ]
     },
     "execution_count": 11,
     "metadata": {},
     "output_type": "execute_result"
    }
   ],
   "source": [
    "len(\"hello\") #string size"
   ]
  },
  {
   "cell_type": "code",
   "execution_count": 13,
   "id": "243555ff-c843-4529-bcde-6fa5d2a21ac9",
   "metadata": {},
   "outputs": [],
   "source": [
    "mystring = \"hello world\" #print the string"
   ]
  },
  {
   "cell_type": "code",
   "execution_count": 14,
   "id": "4a0c3a16-0324-4944-9ec3-2be2cadadedb",
   "metadata": {},
   "outputs": [
    {
     "data": {
      "text/plain": [
       "'hello world'"
      ]
     },
     "execution_count": 14,
     "metadata": {},
     "output_type": "execute_result"
    }
   ],
   "source": [
    "mystring"
   ]
  },
  {
   "cell_type": "code",
   "execution_count": 15,
   "id": "356c9254-51b7-44c3-bc43-a0faa9d74bca",
   "metadata": {},
   "outputs": [
    {
     "data": {
      "text/plain": [
       "'h'"
      ]
     },
     "execution_count": 15,
     "metadata": {},
     "output_type": "execute_result"
    }
   ],
   "source": [
    "mystring[0] #string from starting"
   ]
  },
  {
   "cell_type": "code",
   "execution_count": 23,
   "id": "ac3d604a-9859-49a8-a283-b7cb46f93a77",
   "metadata": {},
   "outputs": [
    {
     "data": {
      "text/plain": [
       "'j'"
      ]
     },
     "execution_count": 23,
     "metadata": {},
     "output_type": "execute_result"
    }
   ],
   "source": [
    "mystring[-2] #string from end"
   ]
  },
  {
   "cell_type": "markdown",
   "id": "b3f4cb98-3d53-4d8a-884b-527ae8dccaf6",
   "metadata": {},
   "source": [
    "#### Slicing"
   ]
  },
  {
   "cell_type": "code",
   "execution_count": 17,
   "id": "7484e38d-fd58-400b-bf17-c1175bf5fe8b",
   "metadata": {},
   "outputs": [],
   "source": [
    "mystring = \"abcdefghijk\""
   ]
  },
  {
   "cell_type": "code",
   "execution_count": 18,
   "id": "403e1c15-4b76-4346-b0a2-578de7c3f9de",
   "metadata": {},
   "outputs": [
    {
     "data": {
      "text/plain": [
       "'abcdefghijk'"
      ]
     },
     "execution_count": 18,
     "metadata": {},
     "output_type": "execute_result"
    }
   ],
   "source": [
    "mystring"
   ]
  },
  {
   "cell_type": "code",
   "execution_count": 19,
   "id": "6a4a6c99-bd2d-4042-9ba1-5fe0e980c4ce",
   "metadata": {},
   "outputs": [
    {
     "data": {
      "text/plain": [
       "'cdefghijk'"
      ]
     },
     "execution_count": 19,
     "metadata": {},
     "output_type": "execute_result"
    }
   ],
   "source": [
    "mystring[2:] #starts from the nth term 0123456789"
   ]
  },
  {
   "cell_type": "code",
   "execution_count": 20,
   "id": "5655f135-15e3-49b8-9dde-7bf4958fbdb7",
   "metadata": {},
   "outputs": [
    {
     "data": {
      "text/plain": [
       "'abc'"
      ]
     },
     "execution_count": 20,
     "metadata": {},
     "output_type": "execute_result"
    }
   ],
   "source": [
    "mystring[:3]"
   ]
  },
  {
   "cell_type": "code",
   "execution_count": 21,
   "id": "86c0ab0d-ef6c-42c6-bcd1-0b3d5b32c0f2",
   "metadata": {},
   "outputs": [
    {
     "data": {
      "text/plain": [
       "'defg'"
      ]
     },
     "execution_count": 21,
     "metadata": {},
     "output_type": "execute_result"
    }
   ],
   "source": [
    "mystring[3:7] #starts from the nth term specified node to specified node"
   ]
  },
  {
   "cell_type": "code",
   "execution_count": 26,
   "id": "284b8d6a-9e92-4326-8cdd-48cd02ab0c38",
   "metadata": {},
   "outputs": [
    {
     "data": {
      "text/plain": [
       "'adgj'"
      ]
     },
     "execution_count": 26,
     "metadata": {},
     "output_type": "execute_result"
    }
   ],
   "source": [
    "mystring[::3] #skip n numbers between"
   ]
  },
  {
   "cell_type": "code",
   "execution_count": null,
   "id": "728c2f11-0c3b-400f-a759-249b43fc9b93",
   "metadata": {},
   "outputs": [],
   "source": [
    " mystring[::-1] #reverse a sring"
   ]
  },
  {
   "cell_type": "code",
   "execution_count": 42,
   "id": "74177412-0d8b-4bfa-83c2-a95db8233966",
   "metadata": {},
   "outputs": [],
   "source": [
    "name = \"Vipu\""
   ]
  },
  {
   "cell_type": "code",
   "execution_count": 43,
   "id": "38759db1-5a3c-4709-92df-1d8672bd72c5",
   "metadata": {},
   "outputs": [],
   "source": [
    "last = name[1:]"
   ]
  },
  {
   "cell_type": "code",
   "execution_count": 44,
   "id": "9d7c9ba3-0e92-4ded-8973-885fb07957c9",
   "metadata": {},
   "outputs": [
    {
     "data": {
      "text/plain": [
       "'Pipu'"
      ]
     },
     "execution_count": 44,
     "metadata": {},
     "output_type": "execute_result"
    }
   ],
   "source": [
    "'P' + last"
   ]
  },
  {
   "cell_type": "code",
   "execution_count": 33,
   "id": "f03d969a-2e76-4dea-849b-6b41ec025d82",
   "metadata": {},
   "outputs": [],
   "source": [
    "x = \"Hello World\""
   ]
  },
  {
   "cell_type": "code",
   "execution_count": 36,
   "id": "b9b5b568-5570-414e-94ee-6df9c9ccbcc4",
   "metadata": {},
   "outputs": [
    {
     "data": {
      "text/plain": [
       "'Hello World it is beautiful outside!'"
      ]
     },
     "execution_count": 36,
     "metadata": {},
     "output_type": "execute_result"
    }
   ],
   "source": [
    "x + \" it is beautiful outside!\""
   ]
  },
  {
   "cell_type": "code",
   "execution_count": 38,
   "id": "5b44140d-fdab-47e7-89b4-ad0a54fa5f38",
   "metadata": {},
   "outputs": [],
   "source": [
    "letter = 'v'"
   ]
  },
  {
   "cell_type": "code",
   "execution_count": 39,
   "id": "b54c3234-70ae-421c-9c6f-2d272b4261f8",
   "metadata": {},
   "outputs": [
    {
     "data": {
      "text/plain": [
       "'vvvvvvvvvv'"
      ]
     },
     "execution_count": 39,
     "metadata": {},
     "output_type": "execute_result"
    }
   ],
   "source": [
    "letter *  10"
   ]
  },
  {
   "cell_type": "code",
   "execution_count": 52,
   "id": "dd3a5f8b-5c9c-414f-b93d-0b9b2279088f",
   "metadata": {},
   "outputs": [],
   "source": [
    "x = \"hello world\""
   ]
  },
  {
   "cell_type": "code",
   "execution_count": 53,
   "id": "058aa2a8-df2e-4b9f-b34b-1eee988574c3",
   "metadata": {},
   "outputs": [
    {
     "data": {
      "text/plain": [
       "'HELLO WORLD'"
      ]
     },
     "execution_count": 53,
     "metadata": {},
     "output_type": "execute_result"
    }
   ],
   "source": [
    "x.upper()"
   ]
  },
  {
   "cell_type": "code",
   "execution_count": 54,
   "id": "d23390a8-6548-4928-9dff-c225b12f454a",
   "metadata": {},
   "outputs": [
    {
     "data": {
      "text/plain": [
       "['hello', 'world']"
      ]
     },
     "execution_count": 54,
     "metadata": {},
     "output_type": "execute_result"
    }
   ],
   "source": [
    "x.split()"
   ]
  },
  {
   "cell_type": "code",
   "execution_count": 56,
   "id": "2a8926d0-d3c1-45cd-96ef-3aacae9e8b0d",
   "metadata": {},
   "outputs": [
    {
     "data": {
      "text/plain": [
       "['he', '', 'o wor', 'd']"
      ]
     },
     "execution_count": 56,
     "metadata": {},
     "output_type": "execute_result"
    }
   ],
   "source": [
    "x.split('l')"
   ]
  },
  {
   "cell_type": "markdown",
   "id": "48c84a85-d43b-45e2-b942-57acbe3409fc",
   "metadata": {},
   "source": [
    "#### Formatting"
   ]
  },
  {
   "cell_type": "code",
   "execution_count": 60,
   "id": "b9fba611-3cc5-48e7-8db2-238ece949e44",
   "metadata": {},
   "outputs": [
    {
     "name": "stdout",
     "output_type": "stream",
     "text": [
      "this is a string Insert\n"
     ]
    }
   ],
   "source": [
    "print('this is a string {}'.format('Insert'))"
   ]
  },
  {
   "cell_type": "code",
   "execution_count": 61,
   "id": "48e2c3c4-57eb-41a2-99a2-4d6fad05421c",
   "metadata": {},
   "outputs": [
    {
     "name": "stdout",
     "output_type": "stream",
     "text": [
      "The foz foz fuss\n"
     ]
    }
   ],
   "source": [
    "print('The {0} {0} {1}'.format('foz', 'fuss', 'fuse'))"
   ]
  },
  {
   "cell_type": "code",
   "execution_count": 63,
   "id": "0c9e529e-c2fd-4ecc-8a74-caf4511a92c4",
   "metadata": {},
   "outputs": [
    {
     "name": "stdout",
     "output_type": "stream",
     "text": [
      "The foz fuss fuse\n"
     ]
    }
   ],
   "source": [
    "print('The {f} {b} {c}'.format(f='foz', b='fuss', c='fuse'))"
   ]
  },
  {
   "cell_type": "code",
   "execution_count": null,
   "id": "3247d242-7563-452b-ba3f-6be2b4f9dad3",
   "metadata": {},
   "outputs": [],
   "source": []
  }
 ],
 "metadata": {
  "kernelspec": {
   "display_name": "Python 3 (ipykernel)",
   "language": "python",
   "name": "python3"
  },
  "language_info": {
   "codemirror_mode": {
    "name": "ipython",
    "version": 3
   },
   "file_extension": ".py",
   "mimetype": "text/x-python",
   "name": "python",
   "nbconvert_exporter": "python",
   "pygments_lexer": "ipython3",
   "version": "3.11.7"
  }
 },
 "nbformat": 4,
 "nbformat_minor": 5
}
