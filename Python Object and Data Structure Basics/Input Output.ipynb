{
 "cells": [
  {
   "cell_type": "markdown",
   "id": "20eb7be3",
   "metadata": {},
   "source": [
    "## I/O"
   ]
  },
  {
   "cell_type": "code",
   "execution_count": null,
   "id": "527afbe6",
   "metadata": {},
   "outputs": [
    {
     "name": "stdout",
     "output_type": "stream",
     "text": [
      "Overwriting test.txt\n"
     ]
    }
   ],
   "source": [
    "%%writefile test.txt\n",
    "Hello this is a a text file"
   ]
  },
  {
   "cell_type": "code",
   "execution_count": null,
   "id": "5e84eb3b",
   "metadata": {},
   "outputs": [],
   "source": [
    "test = open('test.txt')"
   ]
  },
  {
   "cell_type": "code",
   "execution_count": null,
   "id": "5aec31ea",
   "metadata": {},
   "outputs": [
    {
     "data": {
      "text/plain": [
       "'E:\\\\GitHub\\\\Python-Notebooks'"
      ]
     },
     "metadata": {},
     "output_type": "display_data"
    }
   ],
   "source": [
    "pwd"
   ]
  },
  {
   "cell_type": "code",
   "execution_count": null,
   "id": "72223fc5",
   "metadata": {},
   "outputs": [],
   "source": [
    "test = open(\"test.txt\")"
   ]
  },
  {
   "cell_type": "code",
   "execution_count": null,
   "id": "f7abce28",
   "metadata": {},
   "outputs": [
    {
     "data": {
      "text/plain": [
       "'Hello this is a a text file\\n'"
      ]
     },
     "metadata": {},
     "output_type": "display_data"
    }
   ],
   "source": [
    "test.read()"
   ]
  },
  {
   "cell_type": "code",
   "execution_count": null,
   "id": "dd3c8f9f",
   "metadata": {},
   "outputs": [
    {
     "data": {
      "text/plain": [
       "''"
      ]
     },
     "metadata": {},
     "output_type": "display_data"
    }
   ],
   "source": [
    "test.read()"
   ]
  },
  {
   "cell_type": "code",
   "execution_count": null,
   "id": "9dd32116",
   "metadata": {},
   "outputs": [
    {
     "data": {
      "text/plain": [
       "0"
      ]
     },
     "metadata": {},
     "output_type": "display_data"
    }
   ],
   "source": [
    "test.seek(0)"
   ]
  },
  {
   "cell_type": "code",
   "execution_count": null,
   "id": "befae907",
   "metadata": {},
   "outputs": [
    {
     "data": {
      "text/plain": [
       "'Hello this is a a text file\\n'"
      ]
     },
     "metadata": {},
     "output_type": "display_data"
    }
   ],
   "source": [
    "test.read()"
   ]
  },
  {
   "cell_type": "code",
   "execution_count": null,
   "id": "e56e6716",
   "metadata": {},
   "outputs": [
    {
     "data": {
      "text/plain": [
       "''"
      ]
     },
     "metadata": {},
     "output_type": "display_data"
    }
   ],
   "source": [
    "test.read()"
   ]
  },
  {
   "cell_type": "code",
   "execution_count": null,
   "id": "93e3cf24",
   "metadata": {},
   "outputs": [
    {
     "data": {
      "text/plain": [
       "0"
      ]
     },
     "metadata": {},
     "output_type": "display_data"
    }
   ],
   "source": [
    "test.seek(0)"
   ]
  },
  {
   "cell_type": "code",
   "execution_count": null,
   "id": "ee850422",
   "metadata": {},
   "outputs": [
    {
     "data": {
      "text/plain": [
       "['Hello this is a a text file\\n']"
      ]
     },
     "metadata": {},
     "output_type": "display_data"
    }
   ],
   "source": [
    "test.readlines()"
   ]
  },
  {
   "cell_type": "code",
   "execution_count": null,
   "id": "ac020f69",
   "metadata": {},
   "outputs": [],
   "source": [
    "test.close()"
   ]
  },
  {
   "cell_type": "code",
   "execution_count": null,
   "id": "7acad68f",
   "metadata": {},
   "outputs": [],
   "source": [
    "with open('test.txt') as test2:\n",
    "    content = test2.read()"
   ]
  },
  {
   "cell_type": "code",
   "execution_count": null,
   "id": "24ea51c5",
   "metadata": {},
   "outputs": [
    {
     "data": {
      "text/plain": [
       "'Hello this is a a text file\\n'"
      ]
     },
     "metadata": {},
     "output_type": "display_data"
    }
   ],
   "source": [
    "content"
   ]
  },
  {
   "cell_type": "code",
   "execution_count": null,
   "id": "8eeb5f59",
   "metadata": {},
   "outputs": [],
   "source": [
    "with open('test.txt',mode='r') as test2:\n",
    "    content = test2.read()"
   ]
  },
  {
   "cell_type": "code",
   "execution_count": null,
   "id": "7040ceb1",
   "metadata": {},
   "outputs": [
    {
     "data": {
      "text/plain": [
       "'Hello this is a a text file\\n'"
      ]
     },
     "metadata": {},
     "output_type": "display_data"
    }
   ],
   "source": [
    "content"
   ]
  },
  {
   "cell_type": "markdown",
   "id": "bbf48015",
   "metadata": {},
   "source": [
    "r read\n",
    "w write\n",
    "a append\n",
    "r+ reading and writing\n",
    "w+ writing and reading"
   ]
  },
  {
   "cell_type": "code",
   "execution_count": null,
   "id": "de1efc03",
   "metadata": {},
   "outputs": [
    {
     "name": "stdout",
     "output_type": "stream",
     "text": [
      "Overwriting my.txt\n"
     ]
    }
   ],
   "source": [
    "%%writefile my.txt\n",
    "Hello this is a a text file\n",
    "Hello this is a a text \n",
    "Hello this is a a \n",
    "Hello this is a "
   ]
  },
  {
   "cell_type": "code",
   "execution_count": null,
   "id": "fc5c972b",
   "metadata": {},
   "outputs": [
    {
     "name": "stdout",
     "output_type": "stream",
     "text": [
      "Hello this is a a text file\n",
      "Hello this is a a text \n",
      "Hello this is a a \n",
      "Hello this is a \n",
      "\n"
     ]
    }
   ],
   "source": [
    "with open('my.txt',mode='r') as f:\n",
    "    print(f.read())"
   ]
  },
  {
   "cell_type": "code",
   "execution_count": null,
   "id": "bdd27e6c",
   "metadata": {},
   "outputs": [],
   "source": [
    "with open('my.txt',mode='w') as f:\n",
    "    f.write('Four on fourth')"
   ]
  }
 ],
 "metadata": {
  "language_info": {
   "name": "python"
  }
 },
 "nbformat": 4,
 "nbformat_minor": 5
}
