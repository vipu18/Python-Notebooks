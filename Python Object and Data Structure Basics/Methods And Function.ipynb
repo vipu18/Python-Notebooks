{
 "cells": [
  {
   "cell_type": "code",
   "execution_count": null,
   "id": "6124fd8c",
   "metadata": {
    "collapsed": true
   },
   "outputs": [],
   "source": [
    "def hello():\n",
    "    print(\"Vipu\")"
   ]
  },
  {
   "cell_type": "code",
   "execution_count": null,
   "id": "28ce30d8",
   "metadata": {
    "collapsed": true
   },
   "outputs": [],
   "source": [
    "hello"
   ]
  },
  {
   "cell_type": "code",
   "execution_count": null,
   "id": "d83b3e65",
   "metadata": {
    "collapsed": true
   },
   "outputs": [],
   "source": [
    "def add(name = 'Default'):\n",
    "    print(f'Hello {name}')"
   ]
  },
  {
   "cell_type": "code",
   "execution_count": null,
   "id": "fdf34221",
   "metadata": {
    "collapsed": true
   },
   "outputs": [],
   "source": [
    "add()"
   ]
  },
  {
   "cell_type": "code",
   "execution_count": null,
   "id": "c7324a0f",
   "metadata": {
    "collapsed": true
   },
   "outputs": [],
   "source": [
    "def adds(num1, num2):\n",
    "    return num1+num2"
   ]
  },
  {
   "cell_type": "code",
   "execution_count": null,
   "id": "fde194a2",
   "metadata": {
    "collapsed": true
   },
   "outputs": [],
   "source": [
    "result = adds(10, 20)"
   ]
  },
  {
   "cell_type": "code",
   "execution_count": null,
   "id": "89666b6c",
   "metadata": {
    "collapsed": true
   },
   "outputs": [],
   "source": [
    "result"
   ]
  },
  {
   "cell_type": "code",
   "execution_count": null,
   "id": "fbbccf90",
   "metadata": {
    "collapsed": true
   },
   "outputs": [],
   "source": [
    "def addition(a,b):\n",
    "    print (a+b)\n",
    "    return a+b"
   ]
  },
  {
   "cell_type": "code",
   "execution_count": null,
   "id": "04a9a3a8",
   "metadata": {
    "collapsed": true
   },
   "outputs": [],
   "source": [
    "addition(10, 30)"
   ]
  },
  {
   "cell_type": "code",
   "execution_count": null,
   "id": "21f83f32",
   "metadata": {
    "collapsed": true
   },
   "outputs": [],
   "source": [
    "addition('10', '20')"
   ]
  },
  {
   "cell_type": "markdown",
   "id": "faf46e7f",
   "metadata": {},
   "source": [
    "# Logics"
   ]
  },
  {
   "cell_type": "code",
   "execution_count": null,
   "id": "d7601f60",
   "metadata": {},
   "outputs": [],
   "source": [
    "2 % 2"
   ]
  },
  {
   "cell_type": "code",
   "execution_count": null,
   "id": "b3e15c61",
   "metadata": {},
   "outputs": [],
   "source": [
    "41%4"
   ]
  },
  {
   "cell_type": "code",
   "execution_count": null,
   "id": "0a77220b",
   "metadata": {},
   "outputs": [],
   "source": [
    "20 % 2== 0"
   ]
  },
  {
   "cell_type": "code",
   "execution_count": null,
   "id": "d4a9d36c",
   "metadata": {},
   "outputs": [],
   "source": [
    "def even_check(number):\n",
    "    result = number % 2 == 0\n",
    "    return result"
   ]
  },
  {
   "cell_type": "code",
   "execution_count": null,
   "id": "9bb51374",
   "metadata": {},
   "outputs": [],
   "source": [
    "even_check(20)"
   ]
  },
  {
   "cell_type": "code",
   "execution_count": null,
   "id": "5c3823e5",
   "metadata": {},
   "outputs": [],
   "source": [
    "def check_even_list(num_list):\n",
    "    for number in num_list:\n",
    "        if number % 2 == 0:\n",
    "            return True\n",
    "    else:\n",
    "        pass\n",
    "    return False    "
   ]
  },
  {
   "cell_type": "code",
   "execution_count": null,
   "id": "44664cb3",
   "metadata": {},
   "outputs": [],
   "source": [
    "check_even_list([1,2,3,4,45,5])"
   ]
  },
  {
   "cell_type": "code",
   "execution_count": null,
   "id": "ba93ec59",
   "metadata": {},
   "outputs": [],
   "source": [
    "check_even_list([1,2,5])"
   ]
  },
  {
   "cell_type": "code",
   "execution_count": null,
   "id": "b311b091",
   "metadata": {},
   "outputs": [],
   "source": [
    "def even_check_li (num_list):\n",
    "    even_num = []\n",
    "    for number in num_list:\n",
    "        if number % 2 == 0:\n",
    "            even_num.append(number)\n",
    "    else:\n",
    "        pass\n",
    "    return even_num"
   ]
  },
  {
   "cell_type": "code",
   "execution_count": null,
   "id": "84bb4dd7",
   "metadata": {},
   "outputs": [],
   "source": [
    "even_check_li([1,2,3,4,4])"
   ]
  },
  {
   "cell_type": "code",
   "execution_count": null,
   "id": "ed46216c",
   "metadata": {},
   "outputs": [],
   "source": [
    "# Unpacking Tuple"
   ]
  },
  {
   "cell_type": "code",
   "execution_count": null,
   "id": "1abb724f",
   "metadata": {},
   "outputs": [],
   "source": [
    "stock = [('a', 100), ('g', 200), ('v', 300)]"
   ]
  },
  {
   "cell_type": "code",
   "execution_count": null,
   "id": "45345e02",
   "metadata": {},
   "outputs": [],
   "source": [
    "for item in stock:\n",
    "    print(item)"
   ]
  },
  {
   "cell_type": "code",
   "execution_count": null,
   "id": "48ce637b",
   "metadata": {},
   "outputs": [],
   "source": [
    "for ticker,price in stock:\n",
    "    print(ticker,price +(10* price))"
   ]
  },
  {
   "cell_type": "code",
   "execution_count": null,
   "id": "dcbe995c",
   "metadata": {},
   "outputs": [],
   "source": [
    "work_hours = [('a', 100), ('b', 400), ('c', 800)]"
   ]
  },
  {
   "cell_type": "code",
   "execution_count": null,
   "id": "5ce79834",
   "metadata": {},
   "outputs": [],
   "source": [
    "def eotm(work_hours):\n",
    "    cm = 0\n",
    "    eom = ''\n",
    "    for employee, hours in work_hours:\n",
    "        if hours > cm:\n",
    "            cm = hours\n",
    "            eom = employee\n",
    "        else:\n",
    "            pass\n",
    "    return (eom, cm)\n"
   ]
  },
  {
   "cell_type": "code",
   "execution_count": null,
   "id": "7dc2720a",
   "metadata": {},
   "outputs": [],
   "source": [
    "result = eotm(work_hours)"
   ]
  },
  {
   "cell_type": "code",
   "execution_count": null,
   "id": "ecf2c10e",
   "metadata": {},
   "outputs": [],
   "source": [
    "result"
   ]
  },
  {
   "cell_type": "code",
   "execution_count": null,
   "id": "c8fb8557",
   "metadata": {},
   "outputs": [],
   "source": [
    "type(work_hours)"
   ]
  },
  {
   "cell_type": "code",
   "execution_count": 55,
   "id": "8ba37642",
   "metadata": {},
   "outputs": [],
   "source": [
    "ex = [1,2,3,4,5]"
   ]
  },
  {
   "cell_type": "code",
   "execution_count": 10,
   "id": "673db25c",
   "metadata": {},
   "outputs": [],
   "source": [
    "from random import shuffle"
   ]
  },
  {
   "cell_type": "code",
   "execution_count": 59,
   "id": "c71b20fc",
   "metadata": {},
   "outputs": [],
   "source": [
    "result = shuffle(ex)"
   ]
  },
  {
   "cell_type": "code",
   "execution_count": 60,
   "id": "7bc07d19",
   "metadata": {},
   "outputs": [],
   "source": [
    "result"
   ]
  },
  {
   "cell_type": "code",
   "execution_count": 61,
   "id": "362126f3",
   "metadata": {},
   "outputs": [],
   "source": [
    "def sh_list(mylist):\n",
    "    shuffle(mylist)\n",
    "    return mylist"
   ]
  },
  {
   "cell_type": "code",
   "execution_count": 62,
   "id": "2d33d4f3",
   "metadata": {},
   "outputs": [],
   "source": [
    "result = sh_list(ex)"
   ]
  },
  {
   "cell_type": "code",
   "execution_count": 64,
   "id": "8a961448",
   "metadata": {},
   "outputs": [
    {
     "data": {
      "text/plain": [
       "[3, 1, 4, 2, 5]"
      ]
     },
     "execution_count": 64,
     "metadata": {},
     "output_type": "execute_result"
    }
   ],
   "source": [
    "result"
   ]
  },
  {
   "cell_type": "code",
   "execution_count": 65,
   "id": "5a63647a",
   "metadata": {},
   "outputs": [],
   "source": [
    "mylis = ['', '0', '']"
   ]
  },
  {
   "cell_type": "code",
   "execution_count": 66,
   "id": "8400bb1d",
   "metadata": {},
   "outputs": [
    {
     "data": {
      "text/plain": [
       "['', '', '0']"
      ]
     },
     "execution_count": 66,
     "metadata": {},
     "output_type": "execute_result"
    }
   ],
   "source": [
    "sh_list(mylis)"
   ]
  },
  {
   "cell_type": "code",
   "execution_count": 5,
   "id": "e4618053",
   "metadata": {},
   "outputs": [],
   "source": [
    "def player_guess():\n",
    "    guess = ''\n",
    "    while guess not in ['0', '1', '2']:\n",
    "        guess = input(\"pick: 0, 1, 2\")\n",
    "    return int(guess)"
   ]
  },
  {
   "cell_type": "code",
   "execution_count": 6,
   "id": "d0277813",
   "metadata": {},
   "outputs": [
    {
     "data": {
      "text/plain": [
       "1"
      ]
     },
     "execution_count": 6,
     "metadata": {},
     "output_type": "execute_result"
    }
   ],
   "source": [
    "player_guess()"
   ]
  },
  {
   "cell_type": "code",
   "execution_count": 7,
   "id": "e4c3a28d",
   "metadata": {},
   "outputs": [],
   "source": [
    "myindex = player_guess()"
   ]
  },
  {
   "cell_type": "code",
   "execution_count": 8,
   "id": "b04ed7c2",
   "metadata": {},
   "outputs": [],
   "source": [
    "def checkg (mylis, guess):\n",
    "    if mylis[guess] == '0':\n",
    "        print(\"correct\")\n",
    "    else:\n",
    "        print(\"wrong\")\n",
    "        print(mylis)"
   ]
  },
  {
   "cell_type": "code",
   "execution_count": null,
   "id": "ad42f9e1",
   "metadata": {},
   "outputs": [],
   "source": [
    "mylis = ['0', '', '']\n",
    "mix = shuffle(mylis)\n",
    "guess = player_guess()\n",
    "checkg(mix, guess)"
   ]
  },
  {
   "cell_type": "code",
   "execution_count": 13,
   "id": "62c318b3",
   "metadata": {},
   "outputs": [],
   "source": [
    "#args & kwargs"
   ]
  },
  {
   "cell_type": "code",
   "execution_count": 16,
   "id": "945dff0f",
   "metadata": {},
   "outputs": [],
   "source": [
    "def myfunc (a,b):\n",
    "    #return 5% of the sum a and b\n",
    "    return sum((a,b))*0.05"
   ]
  },
  {
   "cell_type": "code",
   "execution_count": 17,
   "id": "afa89d13",
   "metadata": {},
   "outputs": [
    {
     "data": {
      "text/plain": [
       "5.0"
      ]
     },
     "execution_count": 17,
     "metadata": {},
     "output_type": "execute_result"
    }
   ],
   "source": [
    "myfunc(40,60)"
   ]
  },
  {
   "cell_type": "code",
   "execution_count": 18,
   "id": "6c11ffed",
   "metadata": {},
   "outputs": [],
   "source": [
    "def myfunc(*args):\n",
    "    return sum(args) * 0.05"
   ]
  },
  {
   "cell_type": "code",
   "execution_count": 19,
   "id": "13be4b7e",
   "metadata": {},
   "outputs": [
    {
     "data": {
      "text/plain": [
       "235.25"
      ]
     },
     "execution_count": 19,
     "metadata": {},
     "output_type": "execute_result"
    }
   ],
   "source": [
    "myfunc(40,60,50,4555)"
   ]
  },
  {
   "cell_type": "code",
   "execution_count": 25,
   "id": "028b70f5",
   "metadata": {},
   "outputs": [],
   "source": [
    "def myfunc(**kwargs):\n",
    "    print(kwargs)\n",
    "    if 'fruit' in kwargs:\n",
    "        print('fruit is {}'.format(kwargs['fruit']))\n",
    "    else:\n",
    "        print('ok')"
   ]
  },
  {
   "cell_type": "code",
   "execution_count": 26,
   "id": "936cbfcc",
   "metadata": {},
   "outputs": [
    {
     "name": "stdout",
     "output_type": "stream",
     "text": [
      "{'fruit': 'apple'}\n",
      "fruit is apple\n"
     ]
    }
   ],
   "source": [
    "myfunc(fruit = 'apple')"
   ]
  },
  {
   "cell_type": "code",
   "execution_count": 28,
   "id": "205ad4e2",
   "metadata": {},
   "outputs": [],
   "source": [
    "def myfunc(*args, **kwargs):\n",
    "    print(args)\n",
    "    print(kwargs)\n",
    "    print('I would like to have {} in {}'.format(args[0], kwargs['food']))"
   ]
  },
  {
   "cell_type": "code",
   "execution_count": 29,
   "id": "974e192d",
   "metadata": {},
   "outputs": [
    {
     "name": "stdout",
     "output_type": "stream",
     "text": [
      "(10, 20, 30)\n",
      "{'fruit': 'orange', 'food': 'eggs', 'animal': 'dogs'}\n",
      "I would like to have 10 in eggs\n"
     ]
    }
   ],
   "source": [
    "myfunc(10,20,30, fruit ='orange', food= 'eggs', animal = 'dogs')"
   ]
  },
  {
   "cell_type": "code",
   "execution_count": 32,
   "id": "4e9297ed",
   "metadata": {},
   "outputs": [
    {
     "name": "stdout",
     "output_type": "stream",
     "text": [
      "John#Peter#Vicky\n"
     ]
    }
   ],
   "source": [
    "myTuple = (\"John\", \"Peter\", \"Vicky\")\n",
    "\n",
    "x = \"#\".join(myTuple)\n",
    "\n",
    "print(x)"
   ]
  }
 ],
 "metadata": {
  "kernelspec": {
   "display_name": "Python 3 (ipykernel)",
   "language": "python",
   "name": "python3"
  },
  "language_info": {
   "codemirror_mode": {
    "name": "ipython",
    "version": 3
   },
   "file_extension": ".py",
   "mimetype": "text/x-python",
   "name": "python",
   "nbconvert_exporter": "python",
   "pygments_lexer": "ipython3",
   "version": "3.12.5"
  }
 },
 "nbformat": 4,
 "nbformat_minor": 5
}
