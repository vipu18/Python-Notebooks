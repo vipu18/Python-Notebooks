{
 "cells": [
  {
   "cell_type": "markdown",
   "id": "d64ff735",
   "metadata": {},
   "source": [
    "## Int Data Structure"
   ]
  },
  {
   "cell_type": "code",
   "execution_count": 1,
   "id": "88438a07",
   "metadata": {},
   "outputs": [],
   "source": [
    "a = 10"
   ]
  },
  {
   "cell_type": "code",
   "execution_count": 2,
   "id": "875c683e",
   "metadata": {},
   "outputs": [
    {
     "data": {
      "text/plain": [
       "int"
      ]
     },
     "execution_count": 2,
     "metadata": {},
     "output_type": "execute_result"
    }
   ],
   "source": [
    "type (a) #to check type of data structrue"
   ]
  },
  {
   "cell_type": "code",
   "execution_count": 3,
   "id": "3a3da493",
   "metadata": {},
   "outputs": [],
   "source": [
    "int = 4"
   ]
  },
  {
   "cell_type": "code",
   "execution_count": 4,
   "id": "cafd3157",
   "metadata": {},
   "outputs": [
    {
     "data": {
      "text/plain": [
       "int"
      ]
     },
     "execution_count": 4,
     "metadata": {},
     "output_type": "execute_result"
    }
   ],
   "source": [
    "type(int)"
   ]
  },
  {
   "cell_type": "code",
   "execution_count": 5,
   "id": "16a112c4",
   "metadata": {},
   "outputs": [],
   "source": [
    "my_income = 100\n",
    "tax_rate = 0.1\n",
    "my_taxes = my_income * tax_rate"
   ]
  },
  {
   "cell_type": "code",
   "execution_count": 6,
   "id": "3f669b8a",
   "metadata": {},
   "outputs": [
    {
     "data": {
      "text/plain": [
       "10.0"
      ]
     },
     "execution_count": 6,
     "metadata": {},
     "output_type": "execute_result"
    }
   ],
   "source": [
    "my_taxes"
   ]
  },
  {
   "cell_type": "markdown",
   "id": "48c84a85-d43b-45e2-b942-57acbe3409fc",
   "metadata": {},
   "source": [
    "## Formatting"
   ]
  },
  {
   "cell_type": "code",
   "execution_count": 7,
   "id": "b9fba611-3cc5-48e7-8db2-238ece949e44",
   "metadata": {},
   "outputs": [
    {
     "name": "stdout",
     "output_type": "stream",
     "text": [
      "this is a string Insert\n"
     ]
    }
   ],
   "source": [
    "print('this is a string {}'.format('Insert'))"
   ]
  },
  {
   "cell_type": "code",
   "execution_count": 8,
   "id": "48e2c3c4-57eb-41a2-99a2-4d6fad05421c",
   "metadata": {},
   "outputs": [
    {
     "name": "stdout",
     "output_type": "stream",
     "text": [
      "The foz foz fuss\n"
     ]
    }
   ],
   "source": [
    "print('The {0} {0} {1}'.format('foz', 'fuss', 'fuse'))"
   ]
  },
  {
   "cell_type": "code",
   "execution_count": 9,
   "id": "0c9e529e-c2fd-4ecc-8a74-caf4511a92c4",
   "metadata": {},
   "outputs": [
    {
     "name": "stdout",
     "output_type": "stream",
     "text": [
      "The foz fuss fuse\n"
     ]
    }
   ],
   "source": [
    "print('The {f} {b} {c}'.format(f='foz', b='fuss', c='fuse'))"
   ]
  },
  {
   "cell_type": "code",
   "execution_count": 10,
   "id": "3247d242-7563-452b-ba3f-6be2b4f9dad3",
   "metadata": {},
   "outputs": [],
   "source": [
    "result = 100/7"
   ]
  },
  {
   "cell_type": "code",
   "execution_count": 11,
   "id": "78db2529-0130-4df5-87e1-f72f7ec9dc8b",
   "metadata": {},
   "outputs": [
    {
     "data": {
      "text/plain": [
       "14.285714285714286"
      ]
     },
     "execution_count": 11,
     "metadata": {},
     "output_type": "execute_result"
    }
   ],
   "source": [
    "result"
   ]
  },
  {
   "cell_type": "code",
   "execution_count": 12,
   "id": "d0783324-085c-4d07-aa2c-fa2d32203565",
   "metadata": {},
   "outputs": [
    {
     "name": "stdout",
     "output_type": "stream",
     "text": [
      "The result 14.286\n"
     ]
    }
   ],
   "source": [
    "print(\"The result {r:1.3f}\".format(r=result))"
   ]
  },
  {
   "cell_type": "code",
   "execution_count": null,
   "id": "62c1dc87",
   "metadata": {},
   "outputs": [],
   "source": []
  },
  {
   "cell_type": "code",
   "execution_count": null,
   "id": "d4facc57",
   "metadata": {},
   "outputs": [],
   "source": []
  },
  {
   "cell_type": "markdown",
   "id": "103a25cd-390c-4584-b499-7761b4cba9ba",
   "metadata": {},
   "source": [
    "## {r:1:.3f} (operator to print: whitespace: no of decimal place)"
   ]
  },
  {
   "cell_type": "markdown",
   "id": "5f0ba80b-85a2-4c23-9a55-385828ef44ca",
   "metadata": {},
   "source": [
    "## Printing"
   ]
  },
  {
   "cell_type": "code",
   "execution_count": 13,
   "id": "44f47c11-d3f2-478c-bb94-efdf43b17bd7",
   "metadata": {},
   "outputs": [],
   "source": [
    "name = \"Jose\""
   ]
  },
  {
   "cell_type": "markdown",
   "id": "fd2c171f-34a8-429c-89d2-53c89c075ac1",
   "metadata": {},
   "source": [
    "f is formated string literal"
   ]
  },
  {
   "cell_type": "code",
   "execution_count": 14,
   "id": "4a353962-b1c9-4e2e-8a7c-318815129396",
   "metadata": {},
   "outputs": [
    {
     "name": "stdout",
     "output_type": "stream",
     "text": [
      "hello Jose\n"
     ]
    }
   ],
   "source": [
    "print(f'hello {name}')"
   ]
  },
  {
   "cell_type": "code",
   "execution_count": 15,
   "id": "27d54038-7bba-4290-badc-bf68b63aef33",
   "metadata": {},
   "outputs": [
    {
     "name": "stdout",
     "output_type": "stream",
     "text": [
      "hello Jose\n"
     ]
    }
   ],
   "source": [
    "print('hello {a}'.format(a = name))"
   ]
  },
  {
   "cell_type": "code",
   "execution_count": 16,
   "id": "f0a90490-b099-4d17-b10e-816d07993561",
   "metadata": {},
   "outputs": [
    {
     "name": "stdout",
     "output_type": "stream",
     "text": [
      "Jose\n"
     ]
    }
   ],
   "source": [
    "print (name)"
   ]
  },
  {
   "cell_type": "markdown",
   "id": "37f0ea89",
   "metadata": {},
   "source": [
    "## Booleans"
   ]
  },
  {
   "cell_type": "code",
   "execution_count": 17,
   "id": "a0f8a76c",
   "metadata": {},
   "outputs": [
    {
     "data": {
      "text/plain": [
       "True"
      ]
     },
     "execution_count": 17,
     "metadata": {},
     "output_type": "execute_result"
    }
   ],
   "source": [
    "True"
   ]
  },
  {
   "cell_type": "code",
   "execution_count": 18,
   "id": "031439ec",
   "metadata": {},
   "outputs": [
    {
     "data": {
      "text/plain": [
       "bool"
      ]
     },
     "execution_count": 18,
     "metadata": {},
     "output_type": "execute_result"
    }
   ],
   "source": [
    "type(True)"
   ]
  },
  {
   "cell_type": "code",
   "execution_count": 19,
   "id": "9fbd95d5",
   "metadata": {},
   "outputs": [
    {
     "data": {
      "text/plain": [
       "False"
      ]
     },
     "execution_count": 19,
     "metadata": {},
     "output_type": "execute_result"
    }
   ],
   "source": [
    "1>2"
   ]
  },
  {
   "cell_type": "code",
   "execution_count": 20,
   "id": "d392e302",
   "metadata": {},
   "outputs": [
    {
     "data": {
      "text/plain": [
       "True"
      ]
     },
     "execution_count": 20,
     "metadata": {},
     "output_type": "execute_result"
    }
   ],
   "source": [
    "1 == 1"
   ]
  },
  {
   "cell_type": "code",
   "execution_count": 21,
   "id": "a288f371",
   "metadata": {},
   "outputs": [],
   "source": [
    "b = None"
   ]
  },
  {
   "cell_type": "code",
   "execution_count": null,
   "id": "768bdbaa",
   "metadata": {},
   "outputs": [],
   "source": []
  }
 ],
 "metadata": {
  "kernelspec": {
   "display_name": "Python 3 (ipykernel)",
   "language": "python",
   "name": "python3"
  },
  "language_info": {
   "codemirror_mode": {
    "name": "ipython",
    "version": 3
   },
   "file_extension": ".py",
   "mimetype": "text/x-python",
   "name": "python",
   "nbconvert_exporter": "python",
   "pygments_lexer": "ipython3",
   "version": "3.11.7"
  }
 },
 "nbformat": 4,
 "nbformat_minor": 5
}
